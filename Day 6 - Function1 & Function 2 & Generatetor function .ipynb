{
 "cells": [
  {
   "cell_type": "markdown",
   "id": "8a35d78b",
   "metadata": {},
   "source": [
    "# Function 1"
   ]
  },
  {
   "cell_type": "code",
   "execution_count": 7,
   "id": "c6cf7c0c",
   "metadata": {},
   "outputs": [
    {
     "name": "stdout",
     "output_type": "stream",
     "text": [
      "This is my program\n"
     ]
    }
   ],
   "source": [
    "print(\"This is my program\")"
   ]
  },
  {
   "cell_type": "code",
   "execution_count": 8,
   "id": "e8c3b849",
   "metadata": {},
   "outputs": [],
   "source": [
    "l = [1,23,3,46,46,5,6]"
   ]
  },
  {
   "cell_type": "code",
   "execution_count": 9,
   "id": "70a677fb",
   "metadata": {},
   "outputs": [
    {
     "data": {
      "text/plain": [
       "[1, 23, 3, 46, 46, 5, 6]"
      ]
     },
     "execution_count": 9,
     "metadata": {},
     "output_type": "execute_result"
    }
   ],
   "source": [
    "l"
   ]
  },
  {
   "cell_type": "code",
   "execution_count": 10,
   "id": "7d4916dc",
   "metadata": {},
   "outputs": [
    {
     "ename": "TypeError",
     "evalue": "'builtin_function_or_method' object is not subscriptable",
     "output_type": "error",
     "traceback": [
      "\u001b[1;31m---------------------------------------------------------------------------\u001b[0m",
      "\u001b[1;31mTypeError\u001b[0m                                 Traceback (most recent call last)",
      "\u001b[1;32m~\\AppData\\Local\\Temp\\ipykernel_3672\\2461699506.py\u001b[0m in \u001b[0;36m<module>\u001b[1;34m\u001b[0m\n\u001b[1;32m----> 1\u001b[1;33m \u001b[0mlen\u001b[0m\u001b[1;33m[\u001b[0m\u001b[0ml\u001b[0m\u001b[1;33m]\u001b[0m\u001b[1;33m\u001b[0m\u001b[1;33m\u001b[0m\u001b[0m\n\u001b[0m",
      "\u001b[1;31mTypeError\u001b[0m: 'builtin_function_or_method' object is not subscriptable"
     ]
    }
   ],
   "source": [
    "len[l]"
   ]
  },
  {
   "cell_type": "code",
   "execution_count": 11,
   "id": "709d08dd",
   "metadata": {},
   "outputs": [
    {
     "ename": "IndentationError",
     "evalue": "expected an indented block (3861551224.py, line 1)",
     "output_type": "error",
     "traceback": [
      "\u001b[1;36m  File \u001b[1;32m\"C:\\Users\\hp\\AppData\\Local\\Temp\\ipykernel_3672\\3861551224.py\"\u001b[1;36m, line \u001b[1;32m1\u001b[0m\n\u001b[1;33m    def test():\u001b[0m\n\u001b[1;37m               ^\u001b[0m\n\u001b[1;31mIndentationError\u001b[0m\u001b[1;31m:\u001b[0m expected an indented block\n"
     ]
    }
   ],
   "source": [
    "def test():"
   ]
  },
  {
   "cell_type": "code",
   "execution_count": 12,
   "id": "91ed5eaf",
   "metadata": {},
   "outputs": [],
   "source": [
    "def test():\n",
    "    pass"
   ]
  },
  {
   "cell_type": "code",
   "execution_count": 13,
   "id": "bc46c226",
   "metadata": {},
   "outputs": [],
   "source": [
    "def test():\n",
    "    print(\"This is my very very first function\")"
   ]
  },
  {
   "cell_type": "code",
   "execution_count": 14,
   "id": "06d0773d",
   "metadata": {},
   "outputs": [
    {
     "name": "stdout",
     "output_type": "stream",
     "text": [
      "This is my very very first function\n"
     ]
    }
   ],
   "source": [
    "test()"
   ]
  },
  {
   "cell_type": "code",
   "execution_count": 15,
   "id": "4288ff12",
   "metadata": {},
   "outputs": [
    {
     "ename": "NameError",
     "evalue": "name 'test1' is not defined",
     "output_type": "error",
     "traceback": [
      "\u001b[1;31m---------------------------------------------------------------------------\u001b[0m",
      "\u001b[1;31mNameError\u001b[0m                                 Traceback (most recent call last)",
      "\u001b[1;32m~\\AppData\\Local\\Temp\\ipykernel_3672\\708475294.py\u001b[0m in \u001b[0;36m<module>\u001b[1;34m\u001b[0m\n\u001b[1;32m----> 1\u001b[1;33m \u001b[0mtest1\u001b[0m\u001b[1;33m(\u001b[0m\u001b[1;33m)\u001b[0m \u001b[1;33m+\u001b[0m \u001b[1;34m\"Ranbeer\"\u001b[0m\u001b[1;33m\u001b[0m\u001b[1;33m\u001b[0m\u001b[0m\n\u001b[0m",
      "\u001b[1;31mNameError\u001b[0m: name 'test1' is not defined"
     ]
    }
   ],
   "source": [
    "test1() + \"Ranbeer\""
   ]
  },
  {
   "cell_type": "code",
   "execution_count": 16,
   "id": "09d32bf5",
   "metadata": {},
   "outputs": [],
   "source": [
    "def test2():\n",
    "    return \"This is my function with return \""
   ]
  },
  {
   "cell_type": "code",
   "execution_count": 17,
   "id": "691a17a5",
   "metadata": {},
   "outputs": [
    {
     "data": {
      "text/plain": [
       "'This is my function with return '"
      ]
     },
     "execution_count": 17,
     "metadata": {},
     "output_type": "execute_result"
    }
   ],
   "source": [
    "test2()"
   ]
  },
  {
   "cell_type": "code",
   "execution_count": 18,
   "id": "0952ef8b",
   "metadata": {},
   "outputs": [
    {
     "data": {
      "text/plain": [
       "'This is my function with return Ranbeer'"
      ]
     },
     "execution_count": 18,
     "metadata": {},
     "output_type": "execute_result"
    }
   ],
   "source": [
    "test2() + \"Ranbeer\""
   ]
  },
  {
   "cell_type": "code",
   "execution_count": 19,
   "id": "386f4f80",
   "metadata": {},
   "outputs": [],
   "source": [
    "def test3():\n",
    "    return 1,4, \"public\", 34.2"
   ]
  },
  {
   "cell_type": "code",
   "execution_count": 20,
   "id": "77bf6dc3",
   "metadata": {},
   "outputs": [
    {
     "data": {
      "text/plain": [
       "(1, 4, 'public', 34.2)"
      ]
     },
     "execution_count": 20,
     "metadata": {},
     "output_type": "execute_result"
    }
   ],
   "source": [
    "test3()"
   ]
  },
  {
   "cell_type": "code",
   "execution_count": 21,
   "id": "d7450978",
   "metadata": {},
   "outputs": [],
   "source": [
    "a = 1,2,3,4,56,56"
   ]
  },
  {
   "cell_type": "code",
   "execution_count": 22,
   "id": "031fabdd",
   "metadata": {},
   "outputs": [
    {
     "data": {
      "text/plain": [
       "(1, 2, 3, 4, 56, 56)"
      ]
     },
     "execution_count": 22,
     "metadata": {},
     "output_type": "execute_result"
    }
   ],
   "source": [
    "a"
   ]
  },
  {
   "cell_type": "code",
   "execution_count": 23,
   "id": "8f0fa5bf",
   "metadata": {},
   "outputs": [],
   "source": [
    "a,b,c,d,e = 1,2,3,3,True"
   ]
  },
  {
   "cell_type": "code",
   "execution_count": 24,
   "id": "252605b9",
   "metadata": {},
   "outputs": [
    {
     "data": {
      "text/plain": [
       "1"
      ]
     },
     "execution_count": 24,
     "metadata": {},
     "output_type": "execute_result"
    }
   ],
   "source": [
    "a"
   ]
  },
  {
   "cell_type": "code",
   "execution_count": 25,
   "id": "e39e05f5",
   "metadata": {},
   "outputs": [
    {
     "data": {
      "text/plain": [
       "True"
      ]
     },
     "execution_count": 25,
     "metadata": {},
     "output_type": "execute_result"
    }
   ],
   "source": [
    "e"
   ]
  },
  {
   "cell_type": "code",
   "execution_count": 26,
   "id": "f1d1a38e",
   "metadata": {},
   "outputs": [
    {
     "data": {
      "text/plain": [
       "3"
      ]
     },
     "execution_count": 26,
     "metadata": {},
     "output_type": "execute_result"
    }
   ],
   "source": [
    "c"
   ]
  },
  {
   "cell_type": "code",
   "execution_count": 27,
   "id": "352aa2a6",
   "metadata": {},
   "outputs": [
    {
     "data": {
      "text/plain": [
       "(1, 4, 'public', 34.2)"
      ]
     },
     "execution_count": 27,
     "metadata": {},
     "output_type": "execute_result"
    }
   ],
   "source": [
    "test3()"
   ]
  },
  {
   "cell_type": "code",
   "execution_count": 29,
   "id": "28f7f5a6",
   "metadata": {},
   "outputs": [
    {
     "data": {
      "text/plain": [
       "1"
      ]
     },
     "execution_count": 29,
     "metadata": {},
     "output_type": "execute_result"
    }
   ],
   "source": [
    "test3()[0]"
   ]
  },
  {
   "cell_type": "code",
   "execution_count": 30,
   "id": "c5d96703",
   "metadata": {},
   "outputs": [
    {
     "data": {
      "text/plain": [
       "4"
      ]
     },
     "execution_count": 30,
     "metadata": {},
     "output_type": "execute_result"
    }
   ],
   "source": [
    "test3()[1]"
   ]
  },
  {
   "cell_type": "code",
   "execution_count": 31,
   "id": "3c8b0500",
   "metadata": {},
   "outputs": [
    {
     "data": {
      "text/plain": [
       "'public'"
      ]
     },
     "execution_count": 31,
     "metadata": {},
     "output_type": "execute_result"
    }
   ],
   "source": [
    "test3()[2]"
   ]
  },
  {
   "cell_type": "code",
   "execution_count": 32,
   "id": "910211ac",
   "metadata": {},
   "outputs": [
    {
     "data": {
      "text/plain": [
       "(1, 4, 'public', 34.2)"
      ]
     },
     "execution_count": 32,
     "metadata": {},
     "output_type": "execute_result"
    }
   ],
   "source": [
    "test3()"
   ]
  },
  {
   "cell_type": "code",
   "execution_count": 33,
   "id": "c7cfefa2",
   "metadata": {},
   "outputs": [],
   "source": [
    "a,b,c,d = test3()"
   ]
  },
  {
   "cell_type": "code",
   "execution_count": 34,
   "id": "2c27d5d6",
   "metadata": {},
   "outputs": [
    {
     "data": {
      "text/plain": [
       "1"
      ]
     },
     "execution_count": 34,
     "metadata": {},
     "output_type": "execute_result"
    }
   ],
   "source": [
    "a"
   ]
  },
  {
   "cell_type": "code",
   "execution_count": 35,
   "id": "edeafe61",
   "metadata": {},
   "outputs": [
    {
     "data": {
      "text/plain": [
       "4"
      ]
     },
     "execution_count": 35,
     "metadata": {},
     "output_type": "execute_result"
    }
   ],
   "source": [
    "b"
   ]
  },
  {
   "cell_type": "code",
   "execution_count": 36,
   "id": "643ad4cb",
   "metadata": {},
   "outputs": [
    {
     "data": {
      "text/plain": [
       "'public'"
      ]
     },
     "execution_count": 36,
     "metadata": {},
     "output_type": "execute_result"
    }
   ],
   "source": [
    "c"
   ]
  },
  {
   "cell_type": "code",
   "execution_count": 37,
   "id": "4a7f7e5a",
   "metadata": {},
   "outputs": [
    {
     "data": {
      "text/plain": [
       "34.2"
      ]
     },
     "execution_count": 37,
     "metadata": {},
     "output_type": "execute_result"
    }
   ],
   "source": [
    "d"
   ]
  },
  {
   "cell_type": "code",
   "execution_count": 40,
   "id": "f58325cf",
   "metadata": {},
   "outputs": [],
   "source": [
    "def test4():\n",
    "    a = 3*4+5\n",
    "    return a"
   ]
  },
  {
   "cell_type": "code",
   "execution_count": 41,
   "id": "45b3543f",
   "metadata": {},
   "outputs": [
    {
     "data": {
      "text/plain": [
       "17"
      ]
     },
     "execution_count": 41,
     "metadata": {},
     "output_type": "execute_result"
    }
   ],
   "source": [
    "test4()"
   ]
  },
  {
   "cell_type": "code",
   "execution_count": 64,
   "id": "85e5702e",
   "metadata": {},
   "outputs": [
    {
     "data": {
      "text/plain": [
       "int"
      ]
     },
     "execution_count": 64,
     "metadata": {},
     "output_type": "execute_result"
    }
   ],
   "source": [
    "type(test4())"
   ]
  },
  {
   "cell_type": "code",
   "execution_count": 65,
   "id": "3bd11d71",
   "metadata": {},
   "outputs": [
    {
     "data": {
      "text/plain": [
       "function"
      ]
     },
     "execution_count": 65,
     "metadata": {},
     "output_type": "execute_result"
    }
   ],
   "source": [
    "type(test2)"
   ]
  },
  {
   "cell_type": "code",
   "execution_count": 66,
   "id": "76cc36cc",
   "metadata": {},
   "outputs": [
    {
     "data": {
      "text/plain": [
       "function"
      ]
     },
     "execution_count": 66,
     "metadata": {},
     "output_type": "execute_result"
    }
   ],
   "source": [
    "type(test3)"
   ]
  },
  {
   "cell_type": "code",
   "execution_count": 67,
   "id": "c72b73ce",
   "metadata": {},
   "outputs": [
    {
     "data": {
      "text/plain": [
       "function"
      ]
     },
     "execution_count": 67,
     "metadata": {},
     "output_type": "execute_result"
    }
   ],
   "source": [
    "type(test4)"
   ]
  },
  {
   "cell_type": "code",
   "execution_count": 6,
   "id": "79ced8ae",
   "metadata": {},
   "outputs": [],
   "source": [
    "def test5(a,b):\n",
    "    c=a+b\n",
    "    return c"
   ]
  },
  {
   "cell_type": "code",
   "execution_count": 7,
   "id": "21d87198",
   "metadata": {},
   "outputs": [
    {
     "data": {
      "text/plain": [
       "<function __main__.test5(a, b)>"
      ]
     },
     "execution_count": 7,
     "metadata": {},
     "output_type": "execute_result"
    }
   ],
   "source": [
    "test5"
   ]
  },
  {
   "cell_type": "code",
   "execution_count": 8,
   "id": "1cd11a1d",
   "metadata": {},
   "outputs": [
    {
     "ename": "TypeError",
     "evalue": "test5() missing 2 required positional arguments: 'a' and 'b'",
     "output_type": "error",
     "traceback": [
      "\u001b[1;31m---------------------------------------------------------------------------\u001b[0m",
      "\u001b[1;31mTypeError\u001b[0m                                 Traceback (most recent call last)",
      "\u001b[1;32m~\\AppData\\Local\\Temp\\ipykernel_18848\\379652043.py\u001b[0m in \u001b[0;36m<module>\u001b[1;34m\u001b[0m\n\u001b[1;32m----> 1\u001b[1;33m \u001b[0mtest5\u001b[0m\u001b[1;33m(\u001b[0m\u001b[1;33m)\u001b[0m\u001b[1;33m\u001b[0m\u001b[1;33m\u001b[0m\u001b[0m\n\u001b[0m",
      "\u001b[1;31mTypeError\u001b[0m: test5() missing 2 required positional arguments: 'a' and 'b'"
     ]
    }
   ],
   "source": [
    "test5()"
   ]
  },
  {
   "cell_type": "code",
   "execution_count": 9,
   "id": "ce6961b3",
   "metadata": {},
   "outputs": [
    {
     "ename": "NameError",
     "evalue": "name 'a' is not defined",
     "output_type": "error",
     "traceback": [
      "\u001b[1;31m---------------------------------------------------------------------------\u001b[0m",
      "\u001b[1;31mNameError\u001b[0m                                 Traceback (most recent call last)",
      "\u001b[1;32m~\\AppData\\Local\\Temp\\ipykernel_18848\\19807779.py\u001b[0m in \u001b[0;36m<module>\u001b[1;34m\u001b[0m\n\u001b[1;32m----> 1\u001b[1;33m \u001b[0mtest5\u001b[0m\u001b[1;33m(\u001b[0m\u001b[0ma\u001b[0m\u001b[1;33m,\u001b[0m\u001b[0mb\u001b[0m\u001b[1;33m)\u001b[0m\u001b[1;33m\u001b[0m\u001b[1;33m\u001b[0m\u001b[0m\n\u001b[0m",
      "\u001b[1;31mNameError\u001b[0m: name 'a' is not defined"
     ]
    }
   ],
   "source": [
    "test5(a,b)"
   ]
  },
  {
   "cell_type": "code",
   "execution_count": 10,
   "id": "c642194f",
   "metadata": {},
   "outputs": [
    {
     "data": {
      "text/plain": [
       "8"
      ]
     },
     "execution_count": 10,
     "metadata": {},
     "output_type": "execute_result"
    }
   ],
   "source": [
    "test5(1,7)"
   ]
  },
  {
   "cell_type": "code",
   "execution_count": 11,
   "id": "f1195402",
   "metadata": {},
   "outputs": [
    {
     "data": {
      "text/plain": [
       "'RanbeerKumar'"
      ]
     },
     "execution_count": 11,
     "metadata": {},
     "output_type": "execute_result"
    }
   ],
   "source": [
    "test5(\"Ranbeer\", \"Kumar\")"
   ]
  },
  {
   "cell_type": "code",
   "execution_count": 12,
   "id": "5b75c93f",
   "metadata": {},
   "outputs": [
    {
     "data": {
      "text/plain": [
       "[1, 2, 3, 4, 6, 6, 4, 5, 67, 9, 8]"
      ]
     },
     "execution_count": 12,
     "metadata": {},
     "output_type": "execute_result"
    }
   ],
   "source": [
    "test5([1,2,3,4,6,6],[4,5,67,9,8])"
   ]
  },
  {
   "cell_type": "code",
   "execution_count": 27,
   "id": "a117884c",
   "metadata": {},
   "outputs": [
    {
     "data": {
      "text/plain": [
       "'KumarRanbeer'"
      ]
     },
     "execution_count": 27,
     "metadata": {},
     "output_type": "execute_result"
    }
   ],
   "source": [
    "test5(b= \"Ranbeer\",a =\"Kumar\")"
   ]
  },
  {
   "cell_type": "code",
   "execution_count": 28,
   "id": "88848251",
   "metadata": {},
   "outputs": [],
   "source": [
    "lst = [1,2,3,4,5,6,\"Ranbeer\",\"SOft\",[2,3,56,5,6]]"
   ]
  },
  {
   "cell_type": "code",
   "execution_count": 29,
   "id": "9673c4de",
   "metadata": {},
   "outputs": [],
   "source": [
    "#create a function which will take list as a input and give me a final list with all the numeric value"
   ]
  },
  {
   "cell_type": "code",
   "execution_count": 23,
   "id": "1d168a0c",
   "metadata": {},
   "outputs": [],
   "source": [
    "def test6(a):\n",
    "    n = []\n",
    "    for i in a:\n",
    "        if type(i) == int or type(i) == float:\n",
    "            n.append(i)\n",
    "            \n",
    "    return n\n",
    "    "
   ]
  },
  {
   "cell_type": "code",
   "execution_count": 30,
   "id": "09cd7ba3",
   "metadata": {},
   "outputs": [
    {
     "data": {
      "text/plain": [
       "[1, 2, 3, 4, 5, 6]"
      ]
     },
     "execution_count": 30,
     "metadata": {},
     "output_type": "execute_result"
    }
   ],
   "source": [
    "test6(lst)"
   ]
  },
  {
   "cell_type": "code",
   "execution_count": 31,
   "id": "405b4598",
   "metadata": {},
   "outputs": [
    {
     "data": {
      "text/plain": [
       "[1, 2, 3, 4, 5, 6, 'Ranbeer', 'SOft', [2, 3, 56, 5, 6]]"
      ]
     },
     "execution_count": 31,
     "metadata": {},
     "output_type": "execute_result"
    }
   ],
   "source": [
    "lst"
   ]
  },
  {
   "cell_type": "code",
   "execution_count": 33,
   "id": "192b274c",
   "metadata": {},
   "outputs": [],
   "source": [
    "def test7(a):\n",
    "    n =[]\n",
    "    for i in a :\n",
    "        if type(i)==list:\n",
    "            for j in i:\n",
    "                if type(j)==int or type(j)==float:\n",
    "                    n.append(j)\n",
    "        else:\n",
    "            if type(i)==int or type(i) == float:\n",
    "                n.append(i)\n",
    "    return n\n",
    "\n",
    "                \n",
    "        \n",
    "    "
   ]
  },
  {
   "cell_type": "code",
   "execution_count": 34,
   "id": "b71f1af0",
   "metadata": {},
   "outputs": [
    {
     "data": {
      "text/plain": [
       "[1, 2, 3, 4, 5, 6, 2, 3, 56, 5, 6]"
      ]
     },
     "execution_count": 34,
     "metadata": {},
     "output_type": "execute_result"
    }
   ],
   "source": [
    "test7(lst)"
   ]
  },
  {
   "cell_type": "code",
   "execution_count": 56,
   "id": "fb3dd016",
   "metadata": {},
   "outputs": [],
   "source": [
    "def test8(a):\n",
    "    n = []\n",
    "    for i in a:\n",
    "        if type(i)== str:\n",
    "            n.append(i)\n",
    "\n",
    "        if type(i)==list:\n",
    "                for j in i:\n",
    "                    if type(j)==int or type(j)==float:\n",
    "                        n.append(j)\n",
    "        else:\n",
    "            if type(i)==int or type(i) == float:\n",
    "                        n.append(i)\n",
    "                        \n",
    "    return n\n",
    "\n",
    "                    "
   ]
  },
  {
   "cell_type": "code",
   "execution_count": 57,
   "id": "74ba1b3e",
   "metadata": {},
   "outputs": [
    {
     "data": {
      "text/plain": [
       "[1, 2, 3, 4, 5, 6, 'Ranbeer', 'SOft', 2, 3, 56, 5, 6]"
      ]
     },
     "execution_count": 57,
     "metadata": {},
     "output_type": "execute_result"
    }
   ],
   "source": [
    "test8(lst)"
   ]
  },
  {
   "cell_type": "code",
   "execution_count": 58,
   "id": "56aaeb95",
   "metadata": {},
   "outputs": [
    {
     "data": {
      "text/plain": [
       "[1, 2, 3, 4, 5, 6, 'Ranbeer', 'SOft', [2, 3, 56, 5, 6]]"
      ]
     },
     "execution_count": 58,
     "metadata": {},
     "output_type": "execute_result"
    }
   ],
   "source": [
    "lst"
   ]
  },
  {
   "cell_type": "code",
   "execution_count": null,
   "id": "9907b4a3",
   "metadata": {},
   "outputs": [],
   "source": []
  },
  {
   "cell_type": "markdown",
   "id": "511c4b74",
   "metadata": {},
   "source": [
    "# Function 2 "
   ]
  },
  {
   "cell_type": "code",
   "execution_count": 63,
   "id": "91c6f411",
   "metadata": {},
   "outputs": [],
   "source": [
    "def test(a,b,c,d):\n",
    "    pass"
   ]
  },
  {
   "cell_type": "code",
   "execution_count": 64,
   "id": "373c49c1",
   "metadata": {},
   "outputs": [],
   "source": [
    "test(1,23,3,4)"
   ]
  },
  {
   "cell_type": "code",
   "execution_count": 65,
   "id": "2023ad6c",
   "metadata": {},
   "outputs": [
    {
     "ename": "TypeError",
     "evalue": "test() takes 4 positional arguments but 5 were given",
     "output_type": "error",
     "traceback": [
      "\u001b[1;31m---------------------------------------------------------------------------\u001b[0m",
      "\u001b[1;31mTypeError\u001b[0m                                 Traceback (most recent call last)",
      "\u001b[1;32m~\\AppData\\Local\\Temp\\ipykernel_18848\\3515201138.py\u001b[0m in \u001b[0;36m<module>\u001b[1;34m\u001b[0m\n\u001b[1;32m----> 1\u001b[1;33m \u001b[0mtest\u001b[0m\u001b[1;33m(\u001b[0m\u001b[1;36m1\u001b[0m\u001b[1;33m,\u001b[0m\u001b[1;36m23\u001b[0m\u001b[1;33m,\u001b[0m\u001b[1;36m5\u001b[0m\u001b[1;33m,\u001b[0m\u001b[1;36m4\u001b[0m\u001b[1;33m,\u001b[0m\u001b[1;36m5\u001b[0m\u001b[1;33m)\u001b[0m\u001b[1;33m\u001b[0m\u001b[1;33m\u001b[0m\u001b[0m\n\u001b[0m",
      "\u001b[1;31mTypeError\u001b[0m: test() takes 4 positional arguments but 5 were given"
     ]
    }
   ],
   "source": [
    "test(1,23,5,4,5)"
   ]
  },
  {
   "cell_type": "code",
   "execution_count": 69,
   "id": "f7a69d1b",
   "metadata": {},
   "outputs": [],
   "source": [
    "def test1(*args):\n",
    "    return args"
   ]
  },
  {
   "cell_type": "code",
   "execution_count": 71,
   "id": "9acf8acc",
   "metadata": {},
   "outputs": [
    {
     "data": {
      "text/plain": [
       "(1,)"
      ]
     },
     "execution_count": 71,
     "metadata": {},
     "output_type": "execute_result"
    }
   ],
   "source": [
    "test1(1)"
   ]
  },
  {
   "cell_type": "code",
   "execution_count": 72,
   "id": "ba567276",
   "metadata": {},
   "outputs": [
    {
     "data": {
      "text/plain": [
       "(2, 3, 4, 5, 689, 8)"
      ]
     },
     "execution_count": 72,
     "metadata": {},
     "output_type": "execute_result"
    }
   ],
   "source": [
    "test1(2,3,4,5,689,8)"
   ]
  },
  {
   "cell_type": "code",
   "execution_count": 73,
   "id": "1ccecfc0",
   "metadata": {},
   "outputs": [
    {
     "data": {
      "text/plain": [
       "('Ranbeer', [12, 3, 5, 46, 2], (1, 2, 5646, 6), {4, 5, 566.0})"
      ]
     },
     "execution_count": 73,
     "metadata": {},
     "output_type": "execute_result"
    }
   ],
   "source": [
    "test1(\"Ranbeer\",[12,3,5,46,2],(1,2,5646,6),{4,5,566.0})"
   ]
  },
  {
   "cell_type": "code",
   "execution_count": 74,
   "id": "d351fe59",
   "metadata": {},
   "outputs": [],
   "source": [
    "def test2(*Ranbeer):\n",
    "    return Ranbeer\n"
   ]
  },
  {
   "cell_type": "code",
   "execution_count": 75,
   "id": "4ab1ad0c",
   "metadata": {},
   "outputs": [
    {
     "data": {
      "text/plain": [
       "(1, 2, 3, 4, 6, 6)"
      ]
     },
     "execution_count": 75,
     "metadata": {},
     "output_type": "execute_result"
    }
   ],
   "source": [
    "test2(1,2,3,4,6,6)"
   ]
  },
  {
   "cell_type": "code",
   "execution_count": 76,
   "id": "adc7a5ef",
   "metadata": {},
   "outputs": [
    {
     "data": {
      "text/plain": [
       "([12, 34, 5], {1, 3, 46}, 'puja', 'singh', (1, 2, 34, 6, 64))"
      ]
     },
     "execution_count": 76,
     "metadata": {},
     "output_type": "execute_result"
    }
   ],
   "source": [
    "test2([12,34,5],{1,3,46},\"puja\",\"singh\",(1,2,34,6,64))"
   ]
  },
  {
   "cell_type": "code",
   "execution_count": 77,
   "id": "55a6c46f",
   "metadata": {},
   "outputs": [],
   "source": [
    "def test3(*args, a):\n",
    "    return args, a\n"
   ]
  },
  {
   "cell_type": "code",
   "execution_count": 78,
   "id": "7653b1f6",
   "metadata": {},
   "outputs": [
    {
     "ename": "TypeError",
     "evalue": "test3() missing 1 required keyword-only argument: 'a'",
     "output_type": "error",
     "traceback": [
      "\u001b[1;31m---------------------------------------------------------------------------\u001b[0m",
      "\u001b[1;31mTypeError\u001b[0m                                 Traceback (most recent call last)",
      "\u001b[1;32m~\\AppData\\Local\\Temp\\ipykernel_18848\\4254421753.py\u001b[0m in \u001b[0;36m<module>\u001b[1;34m\u001b[0m\n\u001b[1;32m----> 1\u001b[1;33m \u001b[0mtest3\u001b[0m\u001b[1;33m(\u001b[0m\u001b[1;36m3\u001b[0m\u001b[1;33m)\u001b[0m\u001b[1;33m\u001b[0m\u001b[1;33m\u001b[0m\u001b[0m\n\u001b[0m",
      "\u001b[1;31mTypeError\u001b[0m: test3() missing 1 required keyword-only argument: 'a'"
     ]
    }
   ],
   "source": [
    "test3(3)"
   ]
  },
  {
   "cell_type": "code",
   "execution_count": 79,
   "id": "f4564442",
   "metadata": {},
   "outputs": [
    {
     "data": {
      "text/plain": [
       "((1, 2, 34, 66, 466, 5), 'Ranbeer')"
      ]
     },
     "execution_count": 79,
     "metadata": {},
     "output_type": "execute_result"
    }
   ],
   "source": [
    "test3(1,2,34,66,466,5, a = \"Ranbeer\")"
   ]
  },
  {
   "cell_type": "code",
   "execution_count": 82,
   "id": "c9e9a467",
   "metadata": {},
   "outputs": [],
   "source": [
    "def test4(*args):\n",
    "    lst =[]\n",
    "    for i in args:\n",
    "        if type(i)==int:\n",
    "            lst.append(i)\n",
    "    return lst\n"
   ]
  },
  {
   "cell_type": "code",
   "execution_count": 83,
   "id": "cc3c7a3b",
   "metadata": {},
   "outputs": [
    {
     "data": {
      "text/plain": [
       "[1, 23, 4, 56, 5]"
      ]
     },
     "execution_count": 83,
     "metadata": {},
     "output_type": "execute_result"
    }
   ],
   "source": [
    "test4(1,23,4,56,5,[1,23,46,6],\"Ranbeer\")"
   ]
  },
  {
   "cell_type": "code",
   "execution_count": 84,
   "id": "82e6afd7",
   "metadata": {},
   "outputs": [],
   "source": [
    "def test4(*args):\n",
    "    lst =[]\n",
    "    for i in args:\n",
    "        if type(i)==list:\n",
    "            lst.append(i)\n",
    "    return lst\n"
   ]
  },
  {
   "cell_type": "code",
   "execution_count": 86,
   "id": "f2ba76ce",
   "metadata": {},
   "outputs": [
    {
     "data": {
      "text/plain": [
       "[[1, 23, 46, 6], [2, 3], [4, 65, 8]]"
      ]
     },
     "execution_count": 86,
     "metadata": {},
     "output_type": "execute_result"
    }
   ],
   "source": [
    "test4(1,23,4,56,5,[1,23,46,6],\"Ranbeer\",[2,3],[4,65,8])"
   ]
  },
  {
   "cell_type": "code",
   "execution_count": 87,
   "id": "372ec0de",
   "metadata": {},
   "outputs": [],
   "source": [
    "def test5(**kwargs):\n",
    "    return kwargs"
   ]
  },
  {
   "cell_type": "code",
   "execution_count": 88,
   "id": "049150b2",
   "metadata": {},
   "outputs": [
    {
     "data": {
      "text/plain": [
       "{}"
      ]
     },
     "execution_count": 88,
     "metadata": {},
     "output_type": "execute_result"
    }
   ],
   "source": [
    "test5()"
   ]
  },
  {
   "cell_type": "code",
   "execution_count": 89,
   "id": "6b1f5951",
   "metadata": {},
   "outputs": [
    {
     "data": {
      "text/plain": [
       "dict"
      ]
     },
     "execution_count": 89,
     "metadata": {},
     "output_type": "execute_result"
    }
   ],
   "source": [
    "type(test5())"
   ]
  },
  {
   "cell_type": "code",
   "execution_count": 90,
   "id": "a2b904dc",
   "metadata": {},
   "outputs": [
    {
     "data": {
      "text/plain": [
       "{'a': 5, 'b': 34, 'c': [1, 23, 4, 6], 'd': ('Ranbeer', 'Kumar')}"
      ]
     },
     "execution_count": 90,
     "metadata": {},
     "output_type": "execute_result"
    }
   ],
   "source": [
    "test5(a=5,b=34, c= [1,23,4,6],  d= (\"Ranbeer\",\"Kumar\"))"
   ]
  },
  {
   "cell_type": "code",
   "execution_count": 91,
   "id": "49b9a675",
   "metadata": {},
   "outputs": [],
   "source": [
    "def test6(**kwargs):\n",
    "    for i in kwargs.keys():\n",
    "        if type(kwargs[i]) == list:\n",
    "            return i, kwargs[i]"
   ]
  },
  {
   "cell_type": "code",
   "execution_count": 92,
   "id": "7e051832",
   "metadata": {},
   "outputs": [
    {
     "data": {
      "text/plain": [
       "<function __main__.test6(**kwargs)>"
      ]
     },
     "execution_count": 92,
     "metadata": {},
     "output_type": "execute_result"
    }
   ],
   "source": [
    "test6"
   ]
  },
  {
   "cell_type": "code",
   "execution_count": 93,
   "id": "6a0d5acb",
   "metadata": {},
   "outputs": [
    {
     "data": {
      "text/plain": [
       "('c', [1, 23, 4, 6])"
      ]
     },
     "execution_count": 93,
     "metadata": {},
     "output_type": "execute_result"
    }
   ],
   "source": [
    "test6(a=5,b=34, c= [1,23,4,6],  d= (\"Ranbeer\",\"Kumar\"))"
   ]
  },
  {
   "cell_type": "code",
   "execution_count": 94,
   "id": "6ead281e",
   "metadata": {},
   "outputs": [],
   "source": [
    "def test7(*args, **kwargs):\n",
    "    return args, kwargs"
   ]
  },
  {
   "cell_type": "code",
   "execution_count": 97,
   "id": "39f43814",
   "metadata": {},
   "outputs": [
    {
     "data": {
      "text/plain": [
       "((2, 23, 5, 35, 5, 6), {'a': 25, 'b': 65})"
      ]
     },
     "execution_count": 97,
     "metadata": {},
     "output_type": "execute_result"
    }
   ],
   "source": [
    "test7(2,23,5,35,5,6, a= 25,b=65)"
   ]
  },
  {
   "cell_type": "code",
   "execution_count": null,
   "id": "512e03e4",
   "metadata": {},
   "outputs": [],
   "source": []
  },
  {
   "cell_type": "markdown",
   "id": "fe431589",
   "metadata": {},
   "source": [
    "# Generator Function"
   ]
  },
  {
   "cell_type": "code",
   "execution_count": 98,
   "id": "7dd18120",
   "metadata": {},
   "outputs": [
    {
     "data": {
      "text/plain": [
       "range(1, 18)"
      ]
     },
     "execution_count": 98,
     "metadata": {},
     "output_type": "execute_result"
    }
   ],
   "source": [
    "range(1,18)"
   ]
  },
  {
   "cell_type": "code",
   "execution_count": 100,
   "id": "e4e121a5",
   "metadata": {},
   "outputs": [
    {
     "name": "stdout",
     "output_type": "stream",
     "text": [
      "1\n",
      "2\n",
      "3\n",
      "4\n",
      "5\n",
      "6\n",
      "7\n",
      "8\n",
      "9\n"
     ]
    }
   ],
   "source": [
    "for i in range(1,10):\n",
    "    print(i)"
   ]
  },
  {
   "cell_type": "code",
   "execution_count": 104,
   "id": "f1770302",
   "metadata": {},
   "outputs": [],
   "source": [
    "lst = [1,2,3,456,6,78,8,9,\"Ranbeer\",\"Kumar\"]"
   ]
  },
  {
   "cell_type": "code",
   "execution_count": 107,
   "id": "ab6aedbc",
   "metadata": {},
   "outputs": [],
   "source": [
    "def test1(a):\n",
    "    n = []\n",
    "    for i in a:\n",
    "        if type (i)==int:\n",
    "            n.append(i)\n",
    "    return n"
   ]
  },
  {
   "cell_type": "code",
   "execution_count": 108,
   "id": "a210c81b",
   "metadata": {},
   "outputs": [
    {
     "data": {
      "text/plain": [
       "[1, 2, 3, 456, 6, 78, 8, 9]"
      ]
     },
     "execution_count": 108,
     "metadata": {},
     "output_type": "execute_result"
    }
   ],
   "source": [
    "test1(lst)"
   ]
  },
  {
   "cell_type": "code",
   "execution_count": 110,
   "id": "6a50c4ea",
   "metadata": {},
   "outputs": [],
   "source": [
    "#Fibonacci Series: 0,1,1,2,3,5,8,13,21,34,55\n",
    "def test_fib(n):\n",
    "    a,b = 0,1\n",
    "    for i in range (n):\n",
    "        yield a\n",
    "        a,b = b, a+b"
   ]
  },
  {
   "cell_type": "code",
   "execution_count": 111,
   "id": "65dbf9ee",
   "metadata": {},
   "outputs": [
    {
     "data": {
      "text/plain": [
       "<generator object test_fib at 0x000001E68F5467B0>"
      ]
     },
     "execution_count": 111,
     "metadata": {},
     "output_type": "execute_result"
    }
   ],
   "source": [
    "test_fib(10)"
   ]
  },
  {
   "cell_type": "code",
   "execution_count": 112,
   "id": "4b763200",
   "metadata": {},
   "outputs": [
    {
     "name": "stdout",
     "output_type": "stream",
     "text": [
      "0\n",
      "1\n",
      "1\n",
      "2\n",
      "3\n",
      "5\n",
      "8\n",
      "13\n",
      "21\n",
      "34\n"
     ]
    }
   ],
   "source": [
    "for i in test_fib(10):\n",
    "    print(i)"
   ]
  },
  {
   "cell_type": "code",
   "execution_count": null,
   "id": "be082b2d",
   "metadata": {},
   "outputs": [],
   "source": []
  }
 ],
 "metadata": {
  "kernelspec": {
   "display_name": "Python 3 (ipykernel)",
   "language": "python",
   "name": "python3"
  },
  "language_info": {
   "codemirror_mode": {
    "name": "ipython",
    "version": 3
   },
   "file_extension": ".py",
   "mimetype": "text/x-python",
   "name": "python",
   "nbconvert_exporter": "python",
   "pygments_lexer": "ipython3",
   "version": "3.9.13"
  },
  "varInspector": {
   "cols": {
    "lenName": 16,
    "lenType": 16,
    "lenVar": 40
   },
   "kernels_config": {
    "python": {
     "delete_cmd_postfix": "",
     "delete_cmd_prefix": "del ",
     "library": "var_list.py",
     "varRefreshCmd": "print(var_dic_list())"
    },
    "r": {
     "delete_cmd_postfix": ") ",
     "delete_cmd_prefix": "rm(",
     "library": "var_list.r",
     "varRefreshCmd": "cat(var_dic_list()) "
    }
   },
   "types_to_exclude": [
    "module",
    "function",
    "builtin_function_or_method",
    "instance",
    "_Feature"
   ],
   "window_display": false
  }
 },
 "nbformat": 4,
 "nbformat_minor": 5
}
