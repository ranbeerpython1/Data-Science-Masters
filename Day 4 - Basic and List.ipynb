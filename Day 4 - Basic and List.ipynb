{
 "cells": [
  {
   "cell_type": "code",
   "execution_count": 9,
   "id": "ec70db2f",
   "metadata": {},
   "outputs": [],
   "source": [
    "name = \"Data Science Master\""
   ]
  },
  {
   "cell_type": "markdown",
   "id": "776b6d40",
   "metadata": {},
   "source": [
    "# Reversing a String"
   ]
  },
  {
   "cell_type": "code",
   "execution_count": 10,
   "id": "17d15434",
   "metadata": {},
   "outputs": [
    {
     "data": {
      "text/plain": [
       "'retsaM ecneicS ataD'"
      ]
     },
     "execution_count": 10,
     "metadata": {},
     "output_type": "execute_result"
    }
   ],
   "source": [
    "name[::-1]"
   ]
  },
  {
   "cell_type": "code",
   "execution_count": 11,
   "id": "aef688da",
   "metadata": {},
   "outputs": [
    {
     "data": {
      "text/plain": [
       "'r e t s a M   e c n e i c S   a t a D'"
      ]
     },
     "execution_count": 11,
     "metadata": {},
     "output_type": "execute_result"
    }
   ],
   "source": [
    "' '.join(reversed(name))"
   ]
  },
  {
   "cell_type": "code",
   "execution_count": 13,
   "id": "5b4905aa",
   "metadata": {},
   "outputs": [
    {
     "data": {
      "text/plain": [
       "'KRanbeeruRanbeermRanbeeraRanbeerr'"
      ]
     },
     "execution_count": 13,
     "metadata": {},
     "output_type": "execute_result"
    }
   ],
   "source": [
    "\"Ranbeer\".join(\"Kumar\")"
   ]
  },
  {
   "cell_type": "code",
   "execution_count": 14,
   "id": "08d6724c",
   "metadata": {},
   "outputs": [
    {
     "data": {
      "text/plain": [
       "'a b c d'"
      ]
     },
     "execution_count": 14,
     "metadata": {},
     "output_type": "execute_result"
    }
   ],
   "source": [
    "\" \".join(\"abcd\")"
   ]
  },
  {
   "cell_type": "code",
   "execution_count": 17,
   "id": "a44dbc52",
   "metadata": {},
   "outputs": [
    {
     "data": {
      "text/plain": [
       "'t n a'"
      ]
     },
     "execution_count": 17,
     "metadata": {},
     "output_type": "execute_result"
    }
   ],
   "source": [
    "' '.join(reversed(\"ant\"))"
   ]
  },
  {
   "cell_type": "code",
   "execution_count": 18,
   "id": "fc7878f4",
   "metadata": {},
   "outputs": [
    {
     "data": {
      "text/plain": [
       "'tna'"
      ]
     },
     "execution_count": 18,
     "metadata": {},
     "output_type": "execute_result"
    }
   ],
   "source": [
    "''.join(reversed(\"ant\"))"
   ]
  },
  {
   "cell_type": "code",
   "execution_count": 20,
   "id": "1b5c7dd8",
   "metadata": {},
   "outputs": [
    {
     "data": {
      "text/plain": [
       "'tPwskills nPwskills a'"
      ]
     },
     "execution_count": 20,
     "metadata": {},
     "output_type": "execute_result"
    }
   ],
   "source": [
    "'Pwskills '.join(reversed(\"ant\"))"
   ]
  },
  {
   "cell_type": "code",
   "execution_count": 21,
   "id": "cb995303",
   "metadata": {},
   "outputs": [
    {
     "data": {
      "text/plain": [
       "['t', 'n', 'a']"
      ]
     },
     "execution_count": 21,
     "metadata": {},
     "output_type": "execute_result"
    }
   ],
   "source": [
    "list(reversed(\"ant\"))"
   ]
  },
  {
   "cell_type": "code",
   "execution_count": 22,
   "id": "ba84ede4",
   "metadata": {},
   "outputs": [],
   "source": [
    "str1= \"Datamatics is a good company\""
   ]
  },
  {
   "cell_type": "code",
   "execution_count": 23,
   "id": "b3e82ae1",
   "metadata": {},
   "outputs": [
    {
     "data": {
      "text/plain": [
       "'Dskillsaskillstskillsaskillsmskillsaskillstskillsiskillscskillssskills skillsiskillssskills skillsaskills skillsgskillsoskillsoskillsdskills skillscskillsoskillsmskillspskillsaskillsnskillsy'"
      ]
     },
     "execution_count": 23,
     "metadata": {},
     "output_type": "execute_result"
    }
   ],
   "source": [
    "\"skills\".join(str1)"
   ]
  },
  {
   "cell_type": "code",
   "execution_count": 24,
   "id": "52ba693e",
   "metadata": {},
   "outputs": [
    {
     "data": {
      "text/plain": [
       "['t', 'n', 'a']"
      ]
     },
     "execution_count": 24,
     "metadata": {},
     "output_type": "execute_result"
    }
   ],
   "source": [
    "#typecasting\n",
    "list(reversed(\"ant\"))"
   ]
  },
  {
   "cell_type": "code",
   "execution_count": 25,
   "id": "4632ccad",
   "metadata": {},
   "outputs": [
    {
     "name": "stdout",
     "output_type": "stream",
     "text": [
      "retsaM ecneicS ataD"
     ]
    }
   ],
   "source": [
    "for i in list(reversed(name)):\n",
    "    print(i,end='')"
   ]
  },
  {
   "cell_type": "code",
   "execution_count": 26,
   "id": "b9dc153a",
   "metadata": {},
   "outputs": [],
   "source": [
    "##Removing character from  the end of the string\n"
   ]
  },
  {
   "cell_type": "code",
   "execution_count": 29,
   "id": "133e24ea",
   "metadata": {},
   "outputs": [],
   "source": [
    "str_a =\" pwskills \""
   ]
  },
  {
   "cell_type": "code",
   "execution_count": 30,
   "id": "9853a645",
   "metadata": {},
   "outputs": [
    {
     "data": {
      "text/plain": [
       "'pwskills'"
      ]
     },
     "execution_count": 30,
     "metadata": {},
     "output_type": "execute_result"
    }
   ],
   "source": [
    "str_a.strip(\" \")"
   ]
  },
  {
   "cell_type": "code",
   "execution_count": 32,
   "id": "3be2a2ec",
   "metadata": {},
   "outputs": [
    {
     "data": {
      "text/plain": [
       "'pwskills '"
      ]
     },
     "execution_count": 32,
     "metadata": {},
     "output_type": "execute_result"
    }
   ],
   "source": [
    "str_a.lstrip(\" \")"
   ]
  },
  {
   "cell_type": "code",
   "execution_count": 33,
   "id": "e8990b19",
   "metadata": {},
   "outputs": [
    {
     "data": {
      "text/plain": [
       "' pwskills'"
      ]
     },
     "execution_count": 33,
     "metadata": {},
     "output_type": "execute_result"
    }
   ],
   "source": [
    "str_a.rstrip(\" \")"
   ]
  },
  {
   "cell_type": "code",
   "execution_count": 34,
   "id": "da914996",
   "metadata": {},
   "outputs": [],
   "source": [
    "str_n=\"Greeting  to pwskills\""
   ]
  },
  {
   "cell_type": "code",
   "execution_count": 35,
   "id": "6c413299",
   "metadata": {},
   "outputs": [
    {
     "data": {
      "text/plain": [
       "'Greeting  from pwskills'"
      ]
     },
     "execution_count": 35,
     "metadata": {},
     "output_type": "execute_result"
    }
   ],
   "source": [
    "str_n.replace(\"to\",\"from\")"
   ]
  },
  {
   "cell_type": "code",
   "execution_count": 36,
   "id": "9380657b",
   "metadata": {},
   "outputs": [],
   "source": [
    "name=\"Ranbeer\""
   ]
  },
  {
   "cell_type": "code",
   "execution_count": 37,
   "id": "872a4177",
   "metadata": {},
   "outputs": [],
   "source": [
    "name=\"Kumar\""
   ]
  },
  {
   "cell_type": "code",
   "execution_count": 38,
   "id": "faee3361",
   "metadata": {},
   "outputs": [
    {
     "ename": "TypeError",
     "evalue": "'str' object does not support item assignment",
     "output_type": "error",
     "traceback": [
      "\u001b[1;31m---------------------------------------------------------------------------\u001b[0m",
      "\u001b[1;31mTypeError\u001b[0m                                 Traceback (most recent call last)",
      "\u001b[1;32m~\\AppData\\Local\\Temp\\ipykernel_10700\\2198434491.py\u001b[0m in \u001b[0;36m<module>\u001b[1;34m\u001b[0m\n\u001b[1;32m----> 1\u001b[1;33m \u001b[0mname\u001b[0m\u001b[1;33m[\u001b[0m\u001b[1;36m0\u001b[0m\u001b[1;33m]\u001b[0m\u001b[1;33m=\u001b[0m\u001b[1;34m\"K\"\u001b[0m\u001b[1;33m\u001b[0m\u001b[1;33m\u001b[0m\u001b[0m\n\u001b[0m",
      "\u001b[1;31mTypeError\u001b[0m: 'str' object does not support item assignment"
     ]
    }
   ],
   "source": [
    "name[0]=\"K\""
   ]
  },
  {
   "cell_type": "code",
   "execution_count": 39,
   "id": "b77553d7",
   "metadata": {},
   "outputs": [],
   "source": [
    "str_n=\"Greeting to Pwskills\"\n",
    "var_a=str_n.replace(\"G\",\"T\")"
   ]
  },
  {
   "cell_type": "code",
   "execution_count": 40,
   "id": "3678814d",
   "metadata": {},
   "outputs": [
    {
     "name": "stdout",
     "output_type": "stream",
     "text": [
      "2811155956960\n",
      "2811149295984\n"
     ]
    }
   ],
   "source": [
    "print(id(str_n))\n",
    "print(id(str_a))"
   ]
  },
  {
   "cell_type": "code",
   "execution_count": 41,
   "id": "c2abc5ec",
   "metadata": {},
   "outputs": [
    {
     "data": {
      "text/plain": [
       "'hello world'"
      ]
     },
     "execution_count": 41,
     "metadata": {},
     "output_type": "execute_result"
    }
   ],
   "source": [
    "'hello world'"
   ]
  },
  {
   "cell_type": "code",
   "execution_count": 44,
   "id": "bee1e79d",
   "metadata": {},
   "outputs": [
    {
     "data": {
      "text/plain": [
       "'test gmail.com'"
      ]
     },
     "execution_count": 44,
     "metadata": {},
     "output_type": "execute_result"
    }
   ],
   "source": [
    "str_n=\"test@gmail.com\"\n",
    "var_a=str_n.replace(\"@\",\" \")\n",
    "var_a"
   ]
  },
  {
   "cell_type": "code",
   "execution_count": 47,
   "id": "f563099c",
   "metadata": {},
   "outputs": [
    {
     "data": {
      "text/plain": [
       "'hello   world'"
      ]
     },
     "execution_count": 47,
     "metadata": {},
     "output_type": "execute_result"
    }
   ],
   "source": [
    "'hello\\tworld'.expandtabs()"
   ]
  },
  {
   "cell_type": "code",
   "execution_count": 49,
   "id": "89c57007",
   "metadata": {},
   "outputs": [],
   "source": [
    "str1=\"Welcome to pwskills. Welcome to dat cience Masters\""
   ]
  },
  {
   "cell_type": "code",
   "execution_count": 51,
   "id": "a685c163",
   "metadata": {},
   "outputs": [
    {
     "data": {
      "text/plain": [
       "'Welcome to pwskills. Welcome to Data Science Masters'"
      ]
     },
     "execution_count": 51,
     "metadata": {},
     "output_type": "execute_result"
    }
   ],
   "source": [
    "str1.replace(\"dat\", \"Data\").replace(\"cience\",\"Science\")"
   ]
  },
  {
   "cell_type": "code",
   "execution_count": 52,
   "id": "01e9b676",
   "metadata": {},
   "outputs": [
    {
     "data": {
      "text/plain": [
       "'Welcome to pwskills. Welcome to dat cience Masters'"
      ]
     },
     "execution_count": 52,
     "metadata": {},
     "output_type": "execute_result"
    }
   ],
   "source": [
    "str1"
   ]
  },
  {
   "cell_type": "code",
   "execution_count": 53,
   "id": "e30d1b21",
   "metadata": {},
   "outputs": [],
   "source": [
    "str1 =\"RAnbeer\""
   ]
  },
  {
   "cell_type": "code",
   "execution_count": 54,
   "id": "0476e1a3",
   "metadata": {},
   "outputs": [
    {
     "data": {
      "text/plain": [
       "False"
      ]
     },
     "execution_count": 54,
     "metadata": {},
     "output_type": "execute_result"
    }
   ],
   "source": [
    "str1.isupper()"
   ]
  },
  {
   "cell_type": "code",
   "execution_count": 55,
   "id": "2079d9a1",
   "metadata": {},
   "outputs": [
    {
     "data": {
      "text/plain": [
       "False"
      ]
     },
     "execution_count": 55,
     "metadata": {},
     "output_type": "execute_result"
    }
   ],
   "source": [
    "str1.islower()"
   ]
  },
  {
   "cell_type": "code",
   "execution_count": 57,
   "id": "6917e790",
   "metadata": {},
   "outputs": [
    {
     "data": {
      "text/plain": [
       "True"
      ]
     },
     "execution_count": 57,
     "metadata": {},
     "output_type": "execute_result"
    }
   ],
   "source": [
    "' '.isspace()"
   ]
  },
  {
   "cell_type": "code",
   "execution_count": 58,
   "id": "18380d90",
   "metadata": {},
   "outputs": [
    {
     "data": {
      "text/plain": [
       "False"
      ]
     },
     "execution_count": 58,
     "metadata": {},
     "output_type": "execute_result"
    }
   ],
   "source": [
    "''.isspace()"
   ]
  },
  {
   "cell_type": "code",
   "execution_count": 60,
   "id": "f38c8dc7",
   "metadata": {},
   "outputs": [
    {
     "name": "stdout",
     "output_type": "stream",
     "text": [
      "Hello\n"
     ]
    }
   ],
   "source": [
    "if \" \".isspace():\n",
    "    print(\"Hello\")"
   ]
  },
  {
   "cell_type": "code",
   "execution_count": 61,
   "id": "a18a7cc6",
   "metadata": {},
   "outputs": [],
   "source": [
    "str2= \"Pwskills\""
   ]
  },
  {
   "cell_type": "code",
   "execution_count": 62,
   "id": "a8f7eb65",
   "metadata": {},
   "outputs": [
    {
     "data": {
      "text/plain": [
       "True"
      ]
     },
     "execution_count": 62,
     "metadata": {},
     "output_type": "execute_result"
    }
   ],
   "source": [
    "str2.endswith('s')"
   ]
  },
  {
   "cell_type": "code",
   "execution_count": 64,
   "id": "b6afb3e2",
   "metadata": {},
   "outputs": [
    {
     "data": {
      "text/plain": [
       "True"
      ]
     },
     "execution_count": 64,
     "metadata": {},
     "output_type": "execute_result"
    }
   ],
   "source": [
    "str2.startswith(\"P\")"
   ]
  },
  {
   "cell_type": "code",
   "execution_count": 65,
   "id": "66b062cf",
   "metadata": {},
   "outputs": [
    {
     "data": {
      "text/plain": [
       "True"
      ]
     },
     "execution_count": 65,
     "metadata": {},
     "output_type": "execute_result"
    }
   ],
   "source": [
    "##check if all the char in string are alphanumeric\n",
    "a = \"abcd1234\"\n",
    "a.isalnum()"
   ]
  },
  {
   "cell_type": "code",
   "execution_count": 66,
   "id": "aa033f79",
   "metadata": {},
   "outputs": [
    {
     "name": "stdout",
     "output_type": "stream",
     "text": [
      "8\n"
     ]
    }
   ],
   "source": [
    "##write to count the number of character in the strings\n",
    "count=0\n",
    "for i in str2:\n",
    "    count=count+1\n",
    "    \n",
    "print(count)"
   ]
  },
  {
   "cell_type": "code",
   "execution_count": 67,
   "id": "146ed15c",
   "metadata": {},
   "outputs": [
    {
     "data": {
      "text/plain": [
       "8"
      ]
     },
     "execution_count": 67,
     "metadata": {},
     "output_type": "execute_result"
    }
   ],
   "source": [
    "len(str2)"
   ]
  },
  {
   "cell_type": "code",
   "execution_count": 68,
   "id": "3f4d7b23",
   "metadata": {},
   "outputs": [
    {
     "data": {
      "text/plain": [
       "'Pwskills'"
      ]
     },
     "execution_count": 68,
     "metadata": {},
     "output_type": "execute_result"
    }
   ],
   "source": [
    "str2"
   ]
  },
  {
   "cell_type": "code",
   "execution_count": 69,
   "id": "554b15ab",
   "metadata": {},
   "outputs": [
    {
     "name": "stdout",
     "output_type": "stream",
     "text": [
      "P\n",
      "w\n",
      "s\n",
      "k\n",
      "i\n",
      "l\n",
      "l\n",
      "s\n"
     ]
    }
   ],
   "source": [
    "for i in str2:\n",
    "    print(i)"
   ]
  },
  {
   "cell_type": "code",
   "execution_count": 72,
   "id": "873d831b",
   "metadata": {},
   "outputs": [
    {
     "name": "stdout",
     "output_type": "stream",
     "text": [
      "P\n",
      "w\n",
      "s\n",
      "k\n",
      "i\n",
      "l\n",
      "l\n",
      "s\n"
     ]
    }
   ],
   "source": [
    "for i in range(len(str2)):\n",
    "    print(str2[i])"
   ]
  },
  {
   "cell_type": "code",
   "execution_count": 74,
   "id": "f76a10c7",
   "metadata": {},
   "outputs": [
    {
     "name": "stdout",
     "output_type": "stream",
     "text": [
      "0 = P\n",
      "1 = w\n",
      "2 = s\n",
      "3 = k\n",
      "4 = i\n",
      "5 = l\n",
      "6 = l\n",
      "7 = s\n"
     ]
    }
   ],
   "source": [
    "for i in range(len(str2)):\n",
    "    print(i,\"=\",str2[i])"
   ]
  },
  {
   "cell_type": "code",
   "execution_count": 75,
   "id": "87e48072",
   "metadata": {},
   "outputs": [],
   "source": [
    "#We can use index to itrate string reverse  direction"
   ]
  },
  {
   "cell_type": "code",
   "execution_count": 77,
   "id": "0974b6ae",
   "metadata": {},
   "outputs": [
    {
     "data": {
      "text/plain": [
       "7"
      ]
     },
     "execution_count": 77,
     "metadata": {},
     "output_type": "execute_result"
    }
   ],
   "source": [
    "len(str2)-1"
   ]
  },
  {
   "cell_type": "code",
   "execution_count": 79,
   "id": "09a5c50b",
   "metadata": {},
   "outputs": [
    {
     "name": "stdout",
     "output_type": "stream",
     "text": [
      "s\n",
      "l\n",
      "l\n",
      "i\n",
      "k\n",
      "s\n",
      "w\n",
      "P\n"
     ]
    }
   ],
   "source": [
    "for i in range(len(str2)-1,-1,-1):\n",
    "    print(str2[i])"
   ]
  },
  {
   "cell_type": "code",
   "execution_count": 82,
   "id": "3a4e3073",
   "metadata": {},
   "outputs": [
    {
     "name": "stdout",
     "output_type": "stream",
     "text": [
      "s\n",
      "l\n",
      "l\n",
      "i\n",
      "k\n",
      "s\n",
      "w\n",
      "P\n"
     ]
    }
   ],
   "source": [
    "str3=\"Pwskills\"\n",
    "ch=len(str3)-1\n",
    "while ch>=0:\n",
    "    print(str3[ch])\n",
    "    ch=ch-1"
   ]
  },
  {
   "cell_type": "code",
   "execution_count": 84,
   "id": "7eb0bf9e",
   "metadata": {},
   "outputs": [
    {
     "data": {
      "text/plain": [
       "7"
      ]
     },
     "execution_count": 84,
     "metadata": {},
     "output_type": "execute_result"
    }
   ],
   "source": [
    "str3=\"Pwskills\"\n",
    "ch=len(str3)-1\n",
    "ch"
   ]
  },
  {
   "cell_type": "code",
   "execution_count": 85,
   "id": "2a2985bc",
   "metadata": {},
   "outputs": [
    {
     "data": {
      "text/plain": [
       "7"
      ]
     },
     "execution_count": 85,
     "metadata": {},
     "output_type": "execute_result"
    }
   ],
   "source": [
    "str3[7]"
   ]
  },
  {
   "cell_type": "code",
   "execution_count": 86,
   "id": "a645b33a",
   "metadata": {},
   "outputs": [
    {
     "name": "stdout",
     "output_type": "stream",
     "text": [
      "sllikswP"
     ]
    }
   ],
   "source": [
    "#Best solution\n",
    "for i in range(len(str3)):\n",
    "    print(str3[len(str3)-(i+1)],end=\"\")"
   ]
  },
  {
   "cell_type": "code",
   "execution_count": 89,
   "id": "4a3abeb2",
   "metadata": {},
   "outputs": [],
   "source": [
    "name=\"pwskills\"\n",
    "vowels = \"AaEeIiOoUu\""
   ]
  },
  {
   "cell_type": "code",
   "execution_count": 92,
   "id": "1b01d3d0",
   "metadata": {},
   "outputs": [
    {
     "name": "stdout",
     "output_type": "stream",
     "text": [
      "p is not a vowel\n",
      "w is not a vowel\n",
      "s is not a vowel\n",
      "k is not a vowel\n",
      "i is a vowel\n",
      "l is not a vowel\n",
      "l is not a vowel\n",
      "s is not a vowel\n"
     ]
    }
   ],
   "source": [
    "for ch in name:\n",
    "    if ch in vowels:\n",
    "        print(\"{} is a vowel\".format(ch))\n",
    "    else:\n",
    "        print(\"{} is not a vowel\".format(ch))"
   ]
  },
  {
   "cell_type": "markdown",
   "id": "2df0d684",
   "metadata": {},
   "source": [
    "# List"
   ]
  },
  {
   "cell_type": "code",
   "execution_count": 93,
   "id": "7a954dfb",
   "metadata": {},
   "outputs": [
    {
     "data": {
      "text/plain": [
       "list"
      ]
     },
     "execution_count": 93,
     "metadata": {},
     "output_type": "execute_result"
    }
   ],
   "source": [
    "type([])"
   ]
  },
  {
   "cell_type": "code",
   "execution_count": 94,
   "id": "fe340e03",
   "metadata": {},
   "outputs": [
    {
     "data": {
      "text/plain": [
       "['ranbeer', 'Puja', 'Neha', 32]"
      ]
     },
     "execution_count": 94,
     "metadata": {},
     "output_type": "execute_result"
    }
   ],
   "source": [
    "[\"ranbeer\",\"Puja\",\"Neha\",32]"
   ]
  },
  {
   "cell_type": "code",
   "execution_count": 95,
   "id": "60319ac6",
   "metadata": {},
   "outputs": [
    {
     "data": {
      "text/plain": [
       "[1, 2, 3, 4, 5]"
      ]
     },
     "execution_count": 95,
     "metadata": {},
     "output_type": "execute_result"
    }
   ],
   "source": [
    "list([1,2,3,4,5])"
   ]
  },
  {
   "cell_type": "code",
   "execution_count": 96,
   "id": "02e517bb",
   "metadata": {},
   "outputs": [
    {
     "data": {
      "text/plain": [
       "'Pwskills'"
      ]
     },
     "execution_count": 96,
     "metadata": {},
     "output_type": "execute_result"
    }
   ],
   "source": [
    "str2"
   ]
  },
  {
   "cell_type": "code",
   "execution_count": 97,
   "id": "b7d4a611",
   "metadata": {},
   "outputs": [
    {
     "data": {
      "text/plain": [
       "['P', 'w', 's', 'k', 'i', 'l', 'l', 's']"
      ]
     },
     "execution_count": 97,
     "metadata": {},
     "output_type": "execute_result"
    }
   ],
   "source": [
    "list(str2)"
   ]
  },
  {
   "cell_type": "code",
   "execution_count": 114,
   "id": "33fb1168",
   "metadata": {},
   "outputs": [],
   "source": [
    "list1= [\"Pw skilles data science masters\"]"
   ]
  },
  {
   "cell_type": "code",
   "execution_count": 115,
   "id": "4ab1af12",
   "metadata": {},
   "outputs": [
    {
     "data": {
      "text/plain": [
       "['Pw', 'skilles', 'data', 'science', 'masters']"
      ]
     },
     "execution_count": 115,
     "metadata": {},
     "output_type": "execute_result"
    }
   ],
   "source": [
    "list(str1.split(\" \"))"
   ]
  },
  {
   "cell_type": "code",
   "execution_count": 116,
   "id": "52fd182a",
   "metadata": {},
   "outputs": [
    {
     "data": {
      "text/plain": [
       "['Pw', 'skilles', 'data', 'science', 'masters']"
      ]
     },
     "execution_count": 116,
     "metadata": {},
     "output_type": "execute_result"
    }
   ],
   "source": [
    "str1.split(\" \")"
   ]
  },
  {
   "cell_type": "code",
   "execution_count": 119,
   "id": "23adde7e",
   "metadata": {},
   "outputs": [],
   "source": [
    "list1 = [\"Pw skilles data science masters\"]"
   ]
  },
  {
   "cell_type": "code",
   "execution_count": 120,
   "id": "91026faa",
   "metadata": {},
   "outputs": [
    {
     "data": {
      "text/plain": [
       "list[slice(-5, -2, None)]"
      ]
     },
     "execution_count": 120,
     "metadata": {},
     "output_type": "execute_result"
    }
   ],
   "source": [
    "list[-5:-2]"
   ]
  },
  {
   "cell_type": "code",
   "execution_count": 121,
   "id": "b06aec0e",
   "metadata": {},
   "outputs": [
    {
     "data": {
      "text/plain": [
       "['Pw skilles data science masters', 'new element', 3]"
      ]
     },
     "execution_count": 121,
     "metadata": {},
     "output_type": "execute_result"
    }
   ],
   "source": [
    "#Concatenation operation\n",
    "list1 + ['new element',3]"
   ]
  },
  {
   "cell_type": "code",
   "execution_count": 122,
   "id": "2552adc5",
   "metadata": {},
   "outputs": [
    {
     "data": {
      "text/plain": [
       "['Pw skilles data science masters', ['new element', 3]]"
      ]
     },
     "execution_count": 122,
     "metadata": {},
     "output_type": "execute_result"
    }
   ],
   "source": [
    "list1 + [['new element', 3]]"
   ]
  },
  {
   "cell_type": "code",
   "execution_count": 124,
   "id": "2ca42dfe",
   "metadata": {},
   "outputs": [
    {
     "data": {
      "text/plain": [
       "['Pw skilles data science masters', 'Pw skilles data science masters']"
      ]
     },
     "execution_count": 124,
     "metadata": {},
     "output_type": "execute_result"
    }
   ],
   "source": [
    "list1*2"
   ]
  },
  {
   "cell_type": "code",
   "execution_count": 125,
   "id": "3017416d",
   "metadata": {},
   "outputs": [],
   "source": [
    "list2 =['new element']"
   ]
  },
  {
   "cell_type": "code",
   "execution_count": 127,
   "id": "3a737967",
   "metadata": {},
   "outputs": [
    {
     "data": {
      "text/plain": [
       "'n'"
      ]
     },
     "execution_count": 127,
     "metadata": {},
     "output_type": "execute_result"
    }
   ],
   "source": [
    "list2[-1][0]"
   ]
  },
  {
   "cell_type": "code",
   "execution_count": 129,
   "id": "ad250d0c",
   "metadata": {},
   "outputs": [
    {
     "data": {
      "text/plain": [
       "['Pw skilles data science masters', 'Pw skilles data science masters']"
      ]
     },
     "execution_count": 129,
     "metadata": {},
     "output_type": "execute_result"
    }
   ],
   "source": [
    "list1 * 2"
   ]
  },
  {
   "cell_type": "code",
   "execution_count": 131,
   "id": "344fda15",
   "metadata": {},
   "outputs": [
    {
     "data": {
      "text/plain": [
       "['Pw skilles data science masters']"
      ]
     },
     "execution_count": 131,
     "metadata": {},
     "output_type": "execute_result"
    }
   ],
   "source": [
    "list1"
   ]
  },
  {
   "cell_type": "code",
   "execution_count": 135,
   "id": "55ee25f2",
   "metadata": {},
   "outputs": [
    {
     "name": "stdout",
     "output_type": "stream",
     "text": [
      "Pw skilles data science masters\n"
     ]
    }
   ],
   "source": [
    "for element in list1:\n",
    "    print(element)\n",
    "    if \"data\" in list1:\n",
    "        print(element)\n",
    "        break"
   ]
  },
  {
   "cell_type": "code",
   "execution_count": 139,
   "id": "58da08cb",
   "metadata": {},
   "outputs": [],
   "source": [
    "if \"data\" in list1:\n",
    "    print(\"preset\")"
   ]
  },
  {
   "cell_type": "code",
   "execution_count": 141,
   "id": "bef7a25c",
   "metadata": {},
   "outputs": [
    {
     "name": "stdout",
     "output_type": "stream",
     "text": [
      "Pw skilles data science masters\n"
     ]
    }
   ],
   "source": [
    "for elements in list1:\n",
    "    print(elements)\n",
    "    if elements==\"science\":\n",
    "        \n",
    "        print(elements)\n",
    "        break"
   ]
  },
  {
   "cell_type": "code",
   "execution_count": 142,
   "id": "170069ae",
   "metadata": {},
   "outputs": [
    {
     "data": {
      "text/plain": [
       "True"
      ]
     },
     "execution_count": 142,
     "metadata": {},
     "output_type": "execute_result"
    }
   ],
   "source": [
    "#check elements insie a list\n",
    "\n",
    "lst = [1,2,3,4,5]\n",
    "4 in lst"
   ]
  },
  {
   "cell_type": "code",
   "execution_count": 143,
   "id": "71a1e7cf",
   "metadata": {},
   "outputs": [
    {
     "data": {
      "text/plain": [
       "True"
      ]
     },
     "execution_count": 143,
     "metadata": {},
     "output_type": "execute_result"
    }
   ],
   "source": [
    "2.0 in lst"
   ]
  },
  {
   "cell_type": "code",
   "execution_count": 147,
   "id": "f36db6ad",
   "metadata": {},
   "outputs": [],
   "source": [
    "lst1 = [\"zebra\",\"monkey\",\"donkey\",\"lion\"]\n",
    "lst2=[6,5,2,9,6,5,4]\n"
   ]
  },
  {
   "cell_type": "code",
   "execution_count": 145,
   "id": "d27792bd",
   "metadata": {},
   "outputs": [
    {
     "name": "stdout",
     "output_type": "stream",
     "text": [
      "zebra\n"
     ]
    }
   ],
   "source": [
    "print(max(lst1))"
   ]
  },
  {
   "cell_type": "code",
   "execution_count": 148,
   "id": "2eeb98fb",
   "metadata": {},
   "outputs": [
    {
     "data": {
      "text/plain": [
       "9"
      ]
     },
     "execution_count": 148,
     "metadata": {},
     "output_type": "execute_result"
    }
   ],
   "source": [
    "max(lst2)"
   ]
  },
  {
   "cell_type": "code",
   "execution_count": 149,
   "id": "e68d715c",
   "metadata": {},
   "outputs": [
    {
     "data": {
      "text/plain": [
       "'donkey'"
      ]
     },
     "execution_count": 149,
     "metadata": {},
     "output_type": "execute_result"
    }
   ],
   "source": [
    "min(lst1)"
   ]
  },
  {
   "cell_type": "code",
   "execution_count": 150,
   "id": "1d8287f4",
   "metadata": {},
   "outputs": [
    {
     "data": {
      "text/plain": [
       "2"
      ]
     },
     "execution_count": 150,
     "metadata": {},
     "output_type": "execute_result"
    }
   ],
   "source": [
    "min(lst2)"
   ]
  },
  {
   "cell_type": "code",
   "execution_count": 151,
   "id": "22d40210",
   "metadata": {},
   "outputs": [],
   "source": [
    "##Append"
   ]
  },
  {
   "cell_type": "code",
   "execution_count": 160,
   "id": "7fb859ed",
   "metadata": {},
   "outputs": [],
   "source": [
    "lst3 = [1,2,3,4,5,6]"
   ]
  },
  {
   "cell_type": "code",
   "execution_count": 161,
   "id": "f63894be",
   "metadata": {},
   "outputs": [
    {
     "data": {
      "text/plain": [
       "[1, 2, 3, 4, 5, 6]"
      ]
     },
     "execution_count": 161,
     "metadata": {},
     "output_type": "execute_result"
    }
   ],
   "source": [
    "lst3"
   ]
  },
  {
   "cell_type": "code",
   "execution_count": 163,
   "id": "e6cdbfc3",
   "metadata": {},
   "outputs": [],
   "source": [
    "lst3.append(\"pwskills\")"
   ]
  },
  {
   "cell_type": "code",
   "execution_count": 165,
   "id": "25ac80a2",
   "metadata": {},
   "outputs": [
    {
     "data": {
      "text/plain": [
       "[1, 2, 3, 4, 5, 6, 'pwskills']"
      ]
     },
     "execution_count": 165,
     "metadata": {},
     "output_type": "execute_result"
    }
   ],
   "source": [
    "lst3"
   ]
  },
  {
   "cell_type": "code",
   "execution_count": 166,
   "id": "12739d2c",
   "metadata": {},
   "outputs": [],
   "source": [
    "lst3.append([\"data\",\"science\",\"masters\"])"
   ]
  },
  {
   "cell_type": "code",
   "execution_count": 167,
   "id": "aea658c0",
   "metadata": {},
   "outputs": [
    {
     "data": {
      "text/plain": [
       "[1, 2, 3, 4, 5, 6, 'pwskills', ['data', 'science', 'masters']]"
      ]
     },
     "execution_count": 167,
     "metadata": {},
     "output_type": "execute_result"
    }
   ],
   "source": [
    "lst3"
   ]
  },
  {
   "cell_type": "code",
   "execution_count": 168,
   "id": "11ab0e66",
   "metadata": {},
   "outputs": [
    {
     "data": {
      "text/plain": [
       "['zebra', 'monkey', 'donkey', 'lion']"
      ]
     },
     "execution_count": 168,
     "metadata": {},
     "output_type": "execute_result"
    }
   ],
   "source": [
    "lst1"
   ]
  },
  {
   "cell_type": "code",
   "execution_count": 169,
   "id": "99ca3406",
   "metadata": {},
   "outputs": [
    {
     "data": {
      "text/plain": [
       "'lion'"
      ]
     },
     "execution_count": 169,
     "metadata": {},
     "output_type": "execute_result"
    }
   ],
   "source": [
    "lst1.pop()"
   ]
  },
  {
   "cell_type": "code",
   "execution_count": 170,
   "id": "1c6c9716",
   "metadata": {},
   "outputs": [
    {
     "data": {
      "text/plain": [
       "['zebra', 'monkey', 'donkey']"
      ]
     },
     "execution_count": 170,
     "metadata": {},
     "output_type": "execute_result"
    }
   ],
   "source": [
    "lst1"
   ]
  },
  {
   "cell_type": "code",
   "execution_count": 171,
   "id": "319f7139",
   "metadata": {},
   "outputs": [
    {
     "data": {
      "text/plain": [
       "['zebra', 'monkey', 'donkey']"
      ]
     },
     "execution_count": 171,
     "metadata": {},
     "output_type": "execute_result"
    }
   ],
   "source": [
    "lst1"
   ]
  },
  {
   "cell_type": "code",
   "execution_count": 172,
   "id": "b2079f38",
   "metadata": {},
   "outputs": [],
   "source": [
    "lst1 = [\"zebra\",\"monkey\",\"donkey\",\"lion\"]"
   ]
  },
  {
   "cell_type": "code",
   "execution_count": 173,
   "id": "b2659d5b",
   "metadata": {},
   "outputs": [],
   "source": [
    "removed_elemet=lst1.pop()"
   ]
  },
  {
   "cell_type": "code",
   "execution_count": 175,
   "id": "8dbb111d",
   "metadata": {},
   "outputs": [
    {
     "data": {
      "text/plain": [
       "'lion'"
      ]
     },
     "execution_count": 175,
     "metadata": {},
     "output_type": "execute_result"
    }
   ],
   "source": [
    "removed_elemet"
   ]
  },
  {
   "cell_type": "code",
   "execution_count": 177,
   "id": "f59c0936",
   "metadata": {},
   "outputs": [],
   "source": [
    "new_list=['q','e','p','t','%killbgscripts']"
   ]
  },
  {
   "cell_type": "code",
   "execution_count": 178,
   "id": "15071e74",
   "metadata": {},
   "outputs": [],
   "source": [
    "#inplace"
   ]
  },
  {
   "cell_type": "code",
   "execution_count": 180,
   "id": "a7337e43",
   "metadata": {},
   "outputs": [],
   "source": [
    "new_list.reverse()"
   ]
  },
  {
   "cell_type": "code",
   "execution_count": 181,
   "id": "22159fb0",
   "metadata": {},
   "outputs": [
    {
     "data": {
      "text/plain": [
       "['q', 'e', 'p', 't', '%killbgscripts']"
      ]
     },
     "execution_count": 181,
     "metadata": {},
     "output_type": "execute_result"
    }
   ],
   "source": [
    "new_list"
   ]
  },
  {
   "cell_type": "code",
   "execution_count": 182,
   "id": "e38f856a",
   "metadata": {},
   "outputs": [],
   "source": [
    "new_list.sort()"
   ]
  },
  {
   "cell_type": "code",
   "execution_count": 183,
   "id": "36676844",
   "metadata": {},
   "outputs": [
    {
     "data": {
      "text/plain": [
       "['%killbgscripts', 'e', 'p', 'q', 't']"
      ]
     },
     "execution_count": 183,
     "metadata": {},
     "output_type": "execute_result"
    }
   ],
   "source": [
    "new_list"
   ]
  },
  {
   "cell_type": "code",
   "execution_count": 184,
   "id": "a370fa42",
   "metadata": {},
   "outputs": [],
   "source": [
    "list.append(10)"
   ]
  },
  {
   "cell_type": "code",
   "execution_count": 185,
   "id": "8a198de9",
   "metadata": {},
   "outputs": [
    {
     "data": {
      "text/plain": [
       "[1, 2, 3, 4, 5, 6, 'pwskills', 'pwskills', 10]"
      ]
     },
     "execution_count": 185,
     "metadata": {},
     "output_type": "execute_result"
    }
   ],
   "source": [
    "list"
   ]
  },
  {
   "cell_type": "code",
   "execution_count": 187,
   "id": "bcddaaaa",
   "metadata": {},
   "outputs": [
    {
     "data": {
      "text/plain": [
       "[[1, 2, 3], [4, 5, 6], [7, 8, 9]]"
      ]
     },
     "execution_count": 187,
     "metadata": {},
     "output_type": "execute_result"
    }
   ],
   "source": [
    "matrix=[[1,2,3],[4,5,6],[7,8,9]]\n",
    "matrix"
   ]
  },
  {
   "cell_type": "code",
   "execution_count": 189,
   "id": "c99d1751",
   "metadata": {},
   "outputs": [
    {
     "data": {
      "text/plain": [
       "6"
      ]
     },
     "execution_count": 189,
     "metadata": {},
     "output_type": "execute_result"
    }
   ],
   "source": [
    "matrix[1][2]"
   ]
  },
  {
   "cell_type": "code",
   "execution_count": 190,
   "id": "7e3ae43f",
   "metadata": {},
   "outputs": [
    {
     "data": {
      "text/plain": [
       "[8, 9]"
      ]
     },
     "execution_count": 190,
     "metadata": {},
     "output_type": "execute_result"
    }
   ],
   "source": [
    "matrix[2][1:]"
   ]
  },
  {
   "cell_type": "code",
   "execution_count": 193,
   "id": "04f3d247",
   "metadata": {},
   "outputs": [
    {
     "data": {
      "text/plain": [
       "[0, 1, 2, 3, 4, 5, 6, 7, 8, 9, 10, 11, 12, 13, 14, 15, 16, 17, 18, 19]"
      ]
     },
     "execution_count": 193,
     "metadata": {},
     "output_type": "execute_result"
    }
   ],
   "source": [
    "##list comprehension\n",
    "\n",
    "[i for i in range (20)]"
   ]
  },
  {
   "cell_type": "code",
   "execution_count": 194,
   "id": "97ff2927",
   "metadata": {},
   "outputs": [
    {
     "data": {
      "text/plain": [
       "[True,\n",
       " False,\n",
       " True,\n",
       " False,\n",
       " True,\n",
       " False,\n",
       " True,\n",
       " False,\n",
       " True,\n",
       " False,\n",
       " True,\n",
       " False,\n",
       " True,\n",
       " False,\n",
       " True,\n",
       " False,\n",
       " True,\n",
       " False,\n",
       " True,\n",
       " False]"
      ]
     },
     "execution_count": 194,
     "metadata": {},
     "output_type": "execute_result"
    }
   ],
   "source": [
    "##List comprehension\n",
    "\n",
    "#even number\n",
    "[i%2==0 for i in range(20)]"
   ]
  },
  {
   "cell_type": "code",
   "execution_count": 196,
   "id": "fb470361",
   "metadata": {},
   "outputs": [
    {
     "data": {
      "text/plain": [
       "['True',\n",
       " 'Odd',\n",
       " 'True',\n",
       " 'Odd',\n",
       " 'True',\n",
       " 'Odd',\n",
       " 'True',\n",
       " 'Odd',\n",
       " 'True',\n",
       " 'Odd',\n",
       " 'True',\n",
       " 'Odd',\n",
       " 'True',\n",
       " 'Odd',\n",
       " 'True',\n",
       " 'Odd',\n",
       " 'True',\n",
       " 'Odd',\n",
       " 'True',\n",
       " 'Odd']"
      ]
     },
     "execution_count": 196,
     "metadata": {},
     "output_type": "execute_result"
    }
   ],
   "source": [
    "\n",
    "#even number\n",
    "[\"True\" if i%2==0 else \"Odd\" for i in range(0, 20)]"
   ]
  },
  {
   "cell_type": "code",
   "execution_count": 199,
   "id": "2026f89d",
   "metadata": {},
   "outputs": [
    {
     "data": {
      "text/plain": [
       "[0,\n",
       " 'Even',\n",
       " 2,\n",
       " 'Even',\n",
       " 4,\n",
       " 'Even',\n",
       " 6,\n",
       " 'Even',\n",
       " 8,\n",
       " 'Even',\n",
       " 10,\n",
       " 'Even',\n",
       " 12,\n",
       " 'Even',\n",
       " 14,\n",
       " 'Even',\n",
       " 16,\n",
       " 'Even',\n",
       " 18,\n",
       " 'Even']"
      ]
     },
     "execution_count": 199,
     "metadata": {},
     "output_type": "execute_result"
    }
   ],
   "source": [
    "#even number\n",
    "[i if i%2==0 else \"Even\" for i in range(0, 20)]"
   ]
  },
  {
   "cell_type": "code",
   "execution_count": null,
   "id": "bd5f0897",
   "metadata": {},
   "outputs": [],
   "source": [
    "#Assignment\n",
    "#sum of even numers and odd numnbers\n",
    "lst = [1,2,3,4,5,6,7,8,9]"
   ]
  },
  {
   "cell_type": "code",
   "execution_count": null,
   "id": "72d5e30f",
   "metadata": {},
   "outputs": [],
   "source": [
    "lst = [1,2,3,4,5,6,7,8,9]\n",
    "\n",
    "even_sum = 0\n",
    "odd_sum= 0\n",
    "for i in i%2==0:\n",
    "  \n",
    "print(even_sum)\n",
    "print(odd_sum)"
   ]
  },
  {
   "cell_type": "code",
   "execution_count": 202,
   "id": "ffebdda1",
   "metadata": {},
   "outputs": [
    {
     "data": {
      "text/plain": [
       "20"
      ]
     },
     "execution_count": 202,
     "metadata": {},
     "output_type": "execute_result"
    }
   ],
   "source": [
    "lst = [1,2,3,4,5,6,7,8,9]\n",
    "even_sum=sum([num for num in lst if num%2==0])\n",
    "even_sum"
   ]
  },
  {
   "cell_type": "code",
   "execution_count": 203,
   "id": "d16cd7c0",
   "metadata": {},
   "outputs": [
    {
     "data": {
      "text/plain": [
       "25"
      ]
     },
     "execution_count": 203,
     "metadata": {},
     "output_type": "execute_result"
    }
   ],
   "source": [
    "lst = [1,2,3,4,5,6,7,8,9]\n",
    "even_odd=sum([num for num in lst if num%2!=0])\n",
    "even_odd"
   ]
  },
  {
   "cell_type": "code",
   "execution_count": 205,
   "id": "215bc5d0",
   "metadata": {},
   "outputs": [
    {
     "data": {
      "text/plain": [
       "[1, 4, 9, 16, 25, 36, 49, 64, 81]"
      ]
     },
     "execution_count": 205,
     "metadata": {},
     "output_type": "execute_result"
    }
   ],
   "source": [
    "lst = [1,2,3,4,5,6,7,8,9]\n",
    "[num**2 for num in lst]"
   ]
  },
  {
   "cell_type": "code",
   "execution_count": 206,
   "id": "3653c8df",
   "metadata": {},
   "outputs": [],
   "source": [
    "#Example 2: Create a list of only positive numbers from a given list\n",
    "\n",
    "numbers = [-2,-1,0,]"
   ]
  },
  {
   "cell_type": "code",
   "execution_count": null,
   "id": "73d25a33",
   "metadata": {},
   "outputs": [],
   "source": []
  },
  {
   "cell_type": "code",
   "execution_count": null,
   "id": "ae3724f4",
   "metadata": {},
   "outputs": [],
   "source": [
    "#Example 3: create a list of only \n",
    "\n",
    "words = ['apple','banana','cherry']"
   ]
  },
  {
   "cell_type": "code",
   "execution_count": null,
   "id": "ca14356d",
   "metadata": {},
   "outputs": [],
   "source": []
  },
  {
   "cell_type": "code",
   "execution_count": 207,
   "id": "8a6c4dca",
   "metadata": {},
   "outputs": [],
   "source": [
    "#Example 5:\n",
    "celsius_temperature = [0,10,20,30,40,50]"
   ]
  },
  {
   "cell_type": "code",
   "execution_count": null,
   "id": "3cf80f3c",
   "metadata": {},
   "outputs": [],
   "source": [
    "[(9/5)*temp]"
   ]
  },
  {
   "cell_type": "code",
   "execution_count": 208,
   "id": "03ed266c",
   "metadata": {},
   "outputs": [],
   "source": [
    "#Example 6: Flattern a list of lists into a single list\n",
    "\n",
    "lists = [[1,2,3],[4,5,6],[7,8,9]]"
   ]
  },
  {
   "cell_type": "code",
   "execution_count": 209,
   "id": "f5b54016",
   "metadata": {},
   "outputs": [
    {
     "data": {
      "text/plain": [
       "[1, 2, 3, 4, 5, 6, 7, 8, 9]"
      ]
     },
     "execution_count": 209,
     "metadata": {},
     "output_type": "execute_result"
    }
   ],
   "source": [
    "[num for sublist in lists for num in sublist]"
   ]
  },
  {
   "cell_type": "code",
   "execution_count": 210,
   "id": "126fc75c",
   "metadata": {},
   "outputs": [],
   "source": [
    "#using both code and list comprehension\n",
    "#Example 2: Create a list of only  the prime numers from a given list\n",
    "numers = [1,2,3,4,5,6,7,8,9,10]"
   ]
  },
  {
   "cell_type": "code",
   "execution_count": 211,
   "id": "cba5e04f",
   "metadata": {},
   "outputs": [],
   "source": [
    "#Example 3: Create a list of all the possible comprehension of 2 elements from a list\n",
    "\n",
    "numers = [1,2,3,4,5]"
   ]
  },
  {
   "cell_type": "code",
   "execution_count": null,
   "id": "d6124d03",
   "metadata": {},
   "outputs": [],
   "source": []
  }
 ],
 "metadata": {
  "kernelspec": {
   "display_name": "Python 3 (ipykernel)",
   "language": "python",
   "name": "python3"
  },
  "language_info": {
   "codemirror_mode": {
    "name": "ipython",
    "version": 3
   },
   "file_extension": ".py",
   "mimetype": "text/x-python",
   "name": "python",
   "nbconvert_exporter": "python",
   "pygments_lexer": "ipython3",
   "version": "3.9.13"
  },
  "varInspector": {
   "cols": {
    "lenName": 16,
    "lenType": 16,
    "lenVar": 40
   },
   "kernels_config": {
    "python": {
     "delete_cmd_postfix": "",
     "delete_cmd_prefix": "del ",
     "library": "var_list.py",
     "varRefreshCmd": "print(var_dic_list())"
    },
    "r": {
     "delete_cmd_postfix": ") ",
     "delete_cmd_prefix": "rm(",
     "library": "var_list.r",
     "varRefreshCmd": "cat(var_dic_list()) "
    }
   },
   "types_to_exclude": [
    "module",
    "function",
    "builtin_function_or_method",
    "instance",
    "_Feature"
   ],
   "window_display": false
  }
 },
 "nbformat": 4,
 "nbformat_minor": 5
}
