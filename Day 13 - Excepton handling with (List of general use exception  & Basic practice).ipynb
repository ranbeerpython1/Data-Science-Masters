{
 "cells": [
  {
   "cell_type": "code",
   "execution_count": 1,
   "id": "732891d9",
   "metadata": {},
   "outputs": [
    {
     "name": "stdout",
     "output_type": "stream",
     "text": [
      "division by zero\n"
     ]
    }
   ],
   "source": [
    "try:\n",
    "    a = 10\n",
    "    10/0\n",
    "except ZeroDivisionError as e:\n",
    "    print(e)\n",
    "    "
   ]
  },
  {
   "cell_type": "code",
   "execution_count": 2,
   "id": "8e0579ab",
   "metadata": {},
   "outputs": [
    {
     "name": "stdout",
     "output_type": "stream",
     "text": [
      "invalid literal for int() with base 10: 'Ranbeer'\n"
     ]
    }
   ],
   "source": [
    "try:\n",
    "    int(\"Ranbeer\")\n",
    "except (ValueError, TypeError) as e:\n",
    "    print(e)"
   ]
  },
  {
   "cell_type": "code",
   "execution_count": 3,
   "id": "d4fa740c",
   "metadata": {},
   "outputs": [
    {
     "name": "stdout",
     "output_type": "stream",
     "text": [
      "this will catch an error\n"
     ]
    }
   ],
   "source": [
    "try:\n",
    "    int(\"ram\")\n",
    "except:\n",
    "    print(\"this will catch an error\")"
   ]
  },
  {
   "cell_type": "code",
   "execution_count": 4,
   "id": "873a0ad7",
   "metadata": {},
   "outputs": [
    {
     "name": "stdout",
     "output_type": "stream",
     "text": [
      "No module named 'ram'\n"
     ]
    }
   ],
   "source": [
    "try:\n",
    "    import ram\n",
    "except ImportError as e:\n",
    "    print(e)"
   ]
  },
  {
   "cell_type": "code",
   "execution_count": 9,
   "id": "e1c0e72e",
   "metadata": {},
   "outputs": [
    {
     "name": "stdout",
     "output_type": "stream",
     "text": [
      "'key10'\n"
     ]
    }
   ],
   "source": [
    "try:\n",
    "    d = {1: [33,45,5,8,8],\"key\":\"ram\"}\n",
    "    d[\"key10\"]\n",
    "except KeyError as e:\n",
    "    print(e)"
   ]
  },
  {
   "cell_type": "code",
   "execution_count": 10,
   "id": "8761fcb7",
   "metadata": {},
   "outputs": [
    {
     "name": "stdout",
     "output_type": "stream",
     "text": [
      "'str' object has no attribute 'test'\n"
     ]
    }
   ],
   "source": [
    "try:\n",
    "    \"ram\".test()\n",
    "except AttributeError as e :\n",
    "    print(e)"
   ]
  },
  {
   "cell_type": "code",
   "execution_count": 12,
   "id": "ec1c83c7",
   "metadata": {},
   "outputs": [
    {
     "name": "stdout",
     "output_type": "stream",
     "text": [
      "list index out of range\n"
     ]
    }
   ],
   "source": [
    "try:\n",
    "    l= [1,23,4,65,56]\n",
    "    l[10]\n",
    "except IndexError as e :\n",
    "    print(e)"
   ]
  },
  {
   "cell_type": "code",
   "execution_count": 14,
   "id": "4c474273",
   "metadata": {},
   "outputs": [
    {
     "name": "stdout",
     "output_type": "stream",
     "text": [
      "unsupported operand type(s) for +: 'int' and 'str'\n"
     ]
    }
   ],
   "source": [
    "try: \n",
    "    123 + \"Ram\"\n",
    "except TypeError as e :\n",
    "    print(e)"
   ]
  },
  {
   "cell_type": "code",
   "execution_count": 15,
   "id": "6ae19702",
   "metadata": {},
   "outputs": [
    {
     "name": "stdout",
     "output_type": "stream",
     "text": [
      "[Errno 2] No such file or directory: 'test15.txt'\n"
     ]
    }
   ],
   "source": [
    "try:\n",
    "    with open(\"test15.txt\", 'r') as f :\n",
    "        f.read()\n",
    "except FileNotFoundError as e :\n",
    "    print(e)"
   ]
  },
  {
   "cell_type": "code",
   "execution_count": 20,
   "id": "a68af7c0",
   "metadata": {},
   "outputs": [
    {
     "name": "stdout",
     "output_type": "stream",
     "text": [
      "Test the exception:  [Errno 2] No such file or directory: 'test15.txt'\n"
     ]
    }
   ],
   "source": [
    "try:\n",
    "    with open(\"test15.txt\", 'r') as f :\n",
    "        f.read()\n",
    "except Exception as e :\n",
    "    print(\"Test the exception: \",e)\n",
    "except FileNotFoundError as e :\n",
    "    print(\"This is my file not found error\", e)"
   ]
  },
  {
   "cell_type": "code",
   "execution_count": 22,
   "id": "c17ff21a",
   "metadata": {},
   "outputs": [],
   "source": [
    "def test(file):\n",
    "    \n",
    "    try:\n",
    "        with open(\"test15.txt\", 'r') as f :\n",
    "            f.read()\n",
    "    except Exception as e :\n",
    "        print(\"Test the exception: \",e)\n",
    "    except FileNotFoundError as e :\n",
    "        print(\"This is my file not found error\", e)"
   ]
  },
  {
   "cell_type": "code",
   "execution_count": null,
   "id": "c3b96cf9",
   "metadata": {},
   "outputs": [],
   "source": []
  },
  {
   "cell_type": "code",
   "execution_count": null,
   "id": "a1698179",
   "metadata": {},
   "outputs": [],
   "source": []
  },
  {
   "cell_type": "markdown",
   "id": "ed2109bb",
   "metadata": {},
   "source": [
    "# Best Practiceof exception handling"
   ]
  },
  {
   "cell_type": "code",
   "execution_count": 24,
   "id": "c214f810",
   "metadata": {},
   "outputs": [
    {
     "name": "stdout",
     "output_type": "stream",
     "text": [
      "division by zero\n"
     ]
    }
   ],
   "source": [
    "#use always a specific exception\n",
    "try:\n",
    "    10/0\n",
    "except Exception as e :\n",
    "    print(e)"
   ]
  },
  {
   "cell_type": "code",
   "execution_count": 25,
   "id": "dcde2950",
   "metadata": {},
   "outputs": [
    {
     "name": "stdout",
     "output_type": "stream",
     "text": [
      "division by zero\n"
     ]
    }
   ],
   "source": [
    "try:\n",
    "    10/0\n",
    "except ZeroDivisionError as e :\n",
    "    print(e)"
   ]
  },
  {
   "cell_type": "code",
   "execution_count": 26,
   "id": "f48721cb",
   "metadata": {},
   "outputs": [
    {
     "name": "stdout",
     "output_type": "stream",
     "text": [
      "This is my zero division error i am handling division by zero\n"
     ]
    }
   ],
   "source": [
    "#print alwasy a valid msg\n",
    "try:\n",
    "    10/0\n",
    "except ZeroDivisionError as e :\n",
    "    print(\"This is my zero division error i am handling\",e)"
   ]
  },
  {
   "cell_type": "code",
   "execution_count": 29,
   "id": "1bc00869",
   "metadata": {},
   "outputs": [],
   "source": [
    "#Always try to log\n",
    "\n",
    "import logging\n",
    "logging.basicConfig(filename= \"error.log\", level= logging.ERROR)\n",
    "\n",
    "try:\n",
    "    10/0\n",
    "except ZeroDivisionError as e :\n",
    "    logging.error(\"This is my zero division error i am handling {}\".format(e))"
   ]
  },
  {
   "cell_type": "code",
   "execution_count": 31,
   "id": "23edf274",
   "metadata": {},
   "outputs": [],
   "source": [
    "#Always avoid to write a multiple exception handling\n",
    "try:\n",
    "    10/0\n",
    "except FileNotFoundError as e :\n",
    "    logging.error(\"This is file not found error i am handling {}\".format(e))\n",
    "except AttributeError as e :\n",
    "    logging.error(\"This is attribute error i am handling {}\".format(e))\n",
    "except ZeroDivisionError as e :\n",
    "       logging.error(\"This is my zero division error i am handling {}\".format(e))\n"
   ]
  },
  {
   "cell_type": "code",
   "execution_count": 32,
   "id": "3485c4a7",
   "metadata": {},
   "outputs": [],
   "source": [
    "#Always try to proper documentation of entire code\n"
   ]
  },
  {
   "cell_type": "code",
   "execution_count": 35,
   "id": "6f0ce69e",
   "metadata": {},
   "outputs": [],
   "source": [
    "#Cleanup all the resources\n",
    "\n",
    "try:\n",
    "    with open(\"test.txt\", \"w\") as f:\n",
    "        f.write(\"This is my msg to file \")\n",
    "except FileNotFoundError as e :\n",
    "    logging.error(\"this is my file not found {}\".formatr(e))\n",
    "finally:\n",
    "    f.close()"
   ]
  },
  {
   "cell_type": "code",
   "execution_count": null,
   "id": "6990a9cc",
   "metadata": {},
   "outputs": [],
   "source": []
  },
  {
   "cell_type": "code",
   "execution_count": null,
   "id": "aefa2adb",
   "metadata": {},
   "outputs": [],
   "source": []
  }
 ],
 "metadata": {
  "kernelspec": {
   "display_name": "Python 3 (ipykernel)",
   "language": "python",
   "name": "python3"
  },
  "language_info": {
   "codemirror_mode": {
    "name": "ipython",
    "version": 3
   },
   "file_extension": ".py",
   "mimetype": "text/x-python",
   "name": "python",
   "nbconvert_exporter": "python",
   "pygments_lexer": "ipython3",
   "version": "3.9.13"
  },
  "varInspector": {
   "cols": {
    "lenName": 16,
    "lenType": 16,
    "lenVar": 40
   },
   "kernels_config": {
    "python": {
     "delete_cmd_postfix": "",
     "delete_cmd_prefix": "del ",
     "library": "var_list.py",
     "varRefreshCmd": "print(var_dic_list())"
    },
    "r": {
     "delete_cmd_postfix": ") ",
     "delete_cmd_prefix": "rm(",
     "library": "var_list.r",
     "varRefreshCmd": "cat(var_dic_list()) "
    }
   },
   "types_to_exclude": [
    "module",
    "function",
    "builtin_function_or_method",
    "instance",
    "_Feature"
   ],
   "window_display": false
  }
 },
 "nbformat": 4,
 "nbformat_minor": 5
}
