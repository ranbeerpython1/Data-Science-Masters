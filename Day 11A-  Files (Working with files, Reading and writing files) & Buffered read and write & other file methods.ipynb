{
 "cells": [
  {
   "cell_type": "markdown",
   "id": "3f724222",
   "metadata": {},
   "source": [
    "# Working with files"
   ]
  },
  {
   "cell_type": "code",
   "execution_count": 1,
   "id": "43161440",
   "metadata": {},
   "outputs": [],
   "source": [
    "f = open(\"day11_test.txt\",'w')"
   ]
  },
  {
   "cell_type": "code",
   "execution_count": 2,
   "id": "6be5a725",
   "metadata": {},
   "outputs": [
    {
     "data": {
      "text/plain": [
       "'C:\\\\Users\\\\hp\\\\Jupyter Notebook\\\\Data Science Masters\\\\Python Basics to Advance code'"
      ]
     },
     "execution_count": 2,
     "metadata": {},
     "output_type": "execute_result"
    }
   ],
   "source": [
    "pwd #(current directiory)"
   ]
  },
  {
   "cell_type": "code",
   "execution_count": 3,
   "id": "1ea41de9",
   "metadata": {},
   "outputs": [
    {
     "name": "stdout",
     "output_type": "stream",
     "text": [
      " Volume in drive C is Windows\n",
      " Volume Serial Number is 741D-D3B1\n",
      "\n",
      " Directory of C:\\Users\\hp\\Jupyter Notebook\\Data Science Masters\\Python Basics to Advance code\n",
      "\n",
      "21-02-2023  11:56    <DIR>          .\n",
      "21-02-2023  11:56    <DIR>          ..\n",
      "21-02-2023  01:24    <DIR>          .ipynb_checkpoints\n",
      "30-01-2023  21:49             1,193 Day 1-  Data Science Masters.ipynb\n",
      "20-02-2023  22:52            24,048 Day 10 A - Oops Concepts( Decorators, Class Methods, Static Method).ipynb\n",
      "21-02-2023  01:10            17,805 Day 10 B - Oops Concepts( Special (Magic Dunder) Methods, Property Decorators Getters, Setters, And Deletes).ipynb\n",
      "21-02-2023  02:19            12,249 Day 11-  Files (Working with files, Reading and writing files) & Buffered read and write & other file methods.ipynb\n",
      "30-01-2023  22:53            16,251 Day 2-  Data Science Masters.ipynb\n",
      "31-01-2023  22:53            43,162 Day 3-  Data Science Masters.ipynb\n",
      "13-02-2023  23:23            43,451 Day 4 - Basic and List.ipynb\n",
      "09-02-2023  01:08            77,259 Day 5-  Tuple Set and Dictionary.ipynb\n",
      "12-02-2023  22:29            33,585 Day 6 - 3rd feb Function1 & Function 2 & Generatetor function .ipynb\n",
      "14-02-2023  22:05            23,594 Day 7 - 4th Feb 2023  Lambda, Map, Reduce Filter Functions.ipynb\n",
      "14-02-2023  23:02            12,216 Day 8 - Oops(Objest-Oriented Programming system) 5th Feb 2023 .ipynb\n",
      "16-02-2023  23:24            16,976 Day 9 - Oops( Polymorphism, Encapsulation and Inheritance)8th Feb 2023 .ipynb\n",
      "21-02-2023  11:56                 0 day11_test.txt\n",
      "21-02-2023  02:16               365 day11_test1\n",
      "21-02-2023  02:09               365 day11_test1.txt\n",
      "21-02-2023  02:07             1,780 day11_test2.txt\n",
      "              16 File(s)        324,299 bytes\n",
      "               3 Dir(s)  401,338,753,024 bytes free\n"
     ]
    }
   ],
   "source": [
    "ls"
   ]
  },
  {
   "cell_type": "code",
   "execution_count": 93,
   "id": "ff6766cb",
   "metadata": {},
   "outputs": [
    {
     "data": {
      "text/plain": [
       "43"
      ]
     },
     "execution_count": 93,
     "metadata": {},
     "output_type": "execute_result"
    }
   ],
   "source": [
    "f.write(\"this is my first write operatio in the file\")"
   ]
  },
  {
   "cell_type": "code",
   "execution_count": 94,
   "id": "fba7245d",
   "metadata": {},
   "outputs": [],
   "source": [
    "f.close()"
   ]
  },
  {
   "cell_type": "code",
   "execution_count": 95,
   "id": "8c556fe3",
   "metadata": {},
   "outputs": [],
   "source": [
    "f1= open('day11_test1.txt', 'w')"
   ]
  },
  {
   "cell_type": "code",
   "execution_count": 96,
   "id": "aff60fee",
   "metadata": {},
   "outputs": [
    {
     "data": {
      "text/plain": [
       "365"
      ]
     },
     "execution_count": 96,
     "metadata": {},
     "output_type": "execute_result"
    }
   ],
   "source": [
    "f1.write(\"At the master's level, you'll likely be expected to complete core classes in machine learning, modeling, statistics, and databases, as well as elective courses related to data science. You may also take courses in programming languages, such as Python, R, or SQL. Some programs require a capstone course in which you'll apply what you learn to real-world problems. \")"
   ]
  },
  {
   "cell_type": "code",
   "execution_count": 97,
   "id": "86ef1f80",
   "metadata": {},
   "outputs": [],
   "source": [
    "f1.close()"
   ]
  },
  {
   "cell_type": "code",
   "execution_count": 99,
   "id": "b7037af5",
   "metadata": {},
   "outputs": [],
   "source": [
    "data = open(\"day11_test1.txt\",'r')"
   ]
  },
  {
   "cell_type": "code",
   "execution_count": 100,
   "id": "d674789e",
   "metadata": {},
   "outputs": [
    {
     "data": {
      "text/plain": [
       "\"At the master's level, you'll likely be expected to complete core classes in machine learning, modeling, statistics, and databases, as well as elective courses related to data science. You may also take courses in programming languages, such as Python, R, or SQL. Some programs require a capstone course in which you'll apply what you learn to real-world problems. \""
      ]
     },
     "execution_count": 100,
     "metadata": {},
     "output_type": "execute_result"
    }
   ],
   "source": [
    "data.read()"
   ]
  },
  {
   "cell_type": "code",
   "execution_count": 101,
   "id": "7ca0085d",
   "metadata": {},
   "outputs": [
    {
     "data": {
      "text/plain": [
       "''"
      ]
     },
     "execution_count": 101,
     "metadata": {},
     "output_type": "execute_result"
    }
   ],
   "source": [
    "data.read()"
   ]
  },
  {
   "cell_type": "code",
   "execution_count": 102,
   "id": "6bb1e5e6",
   "metadata": {},
   "outputs": [
    {
     "data": {
      "text/plain": [
       "0"
      ]
     },
     "execution_count": 102,
     "metadata": {},
     "output_type": "execute_result"
    }
   ],
   "source": [
    "data.seek(0)"
   ]
  },
  {
   "cell_type": "code",
   "execution_count": 103,
   "id": "0b1425d7",
   "metadata": {},
   "outputs": [
    {
     "data": {
      "text/plain": [
       "\"At the master's level, you'll likely be expected to complete core classes in machine learning, modeling, statistics, and databases, as well as elective courses related to data science. You may also take courses in programming languages, such as Python, R, or SQL. Some programs require a capstone course in which you'll apply what you learn to real-world problems. \""
      ]
     },
     "execution_count": 103,
     "metadata": {},
     "output_type": "execute_result"
    }
   ],
   "source": [
    "data.read()"
   ]
  },
  {
   "cell_type": "code",
   "execution_count": 104,
   "id": "82364e52",
   "metadata": {},
   "outputs": [
    {
     "data": {
      "text/plain": [
       "''"
      ]
     },
     "execution_count": 104,
     "metadata": {},
     "output_type": "execute_result"
    }
   ],
   "source": [
    "data.read()"
   ]
  },
  {
   "cell_type": "code",
   "execution_count": 109,
   "id": "3e0095a8",
   "metadata": {},
   "outputs": [
    {
     "data": {
      "text/plain": [
       "105"
      ]
     },
     "execution_count": 109,
     "metadata": {},
     "output_type": "execute_result"
    }
   ],
   "source": [
    "data.seek(105)"
   ]
  },
  {
   "cell_type": "code",
   "execution_count": 110,
   "id": "b74adc8a",
   "metadata": {},
   "outputs": [
    {
     "data": {
      "text/plain": [
       "\"statistics, and databases, as well as elective courses related to data science. You may also take courses in programming languages, such as Python, R, or SQL. Some programs require a capstone course in which you'll apply what you learn to real-world problems. \""
      ]
     },
     "execution_count": 110,
     "metadata": {},
     "output_type": "execute_result"
    }
   ],
   "source": [
    "data.read()"
   ]
  },
  {
   "cell_type": "code",
   "execution_count": 112,
   "id": "6b97fa17",
   "metadata": {},
   "outputs": [],
   "source": [
    "data1= open(\"day11_test1.txt\",\"r\")"
   ]
  },
  {
   "cell_type": "code",
   "execution_count": 113,
   "id": "ca447220",
   "metadata": {},
   "outputs": [
    {
     "name": "stdout",
     "output_type": "stream",
     "text": [
      "At the master's level, you'll likely be expected to complete core classes in machine learning, modeling, statistics, and databases, as well as elective courses related to data science. You may also take courses in programming languages, such as Python, R, or SQL. Some programs require a capstone course in which you'll apply what you learn to real-world problems. \n"
     ]
    }
   ],
   "source": [
    "for i in data1:\n",
    "    print(i)"
   ]
  },
  {
   "cell_type": "code",
   "execution_count": 114,
   "id": "81aeb80b",
   "metadata": {},
   "outputs": [],
   "source": [
    "import os"
   ]
  },
  {
   "cell_type": "code",
   "execution_count": 119,
   "id": "07f7e582",
   "metadata": {},
   "outputs": [
    {
     "data": {
      "text/plain": [
       "365"
      ]
     },
     "execution_count": 119,
     "metadata": {},
     "output_type": "execute_result"
    }
   ],
   "source": [
    "os.path.getsize(\"day11_test1.txt\")"
   ]
  },
  {
   "cell_type": "code",
   "execution_count": 120,
   "id": "d9be838e",
   "metadata": {},
   "outputs": [],
   "source": [
    "import shutil"
   ]
  },
  {
   "cell_type": "code",
   "execution_count": 121,
   "id": "8cfd7a29",
   "metadata": {},
   "outputs": [
    {
     "data": {
      "text/plain": [
       "'new_day11_test1.txt'"
      ]
     },
     "execution_count": 121,
     "metadata": {},
     "output_type": "execute_result"
    }
   ],
   "source": [
    "shutil.copy(\"day11_test1.txt\",\"new_day11_test1.txt\")"
   ]
  },
  {
   "cell_type": "code",
   "execution_count": 123,
   "id": "f6bb3e88",
   "metadata": {},
   "outputs": [],
   "source": [
    "os.remove(\"day11_test.txt\")"
   ]
  },
  {
   "cell_type": "code",
   "execution_count": null,
   "id": "fe796818",
   "metadata": {},
   "outputs": [],
   "source": []
  },
  {
   "cell_type": "code",
   "execution_count": 125,
   "id": "bc3da634",
   "metadata": {},
   "outputs": [
    {
     "name": "stdout",
     "output_type": "stream",
     "text": [
      "At the master's level, you'll likely be expected to complete core classes in machine learning, modeling, statistics, and databases, as well as elective courses related to data science. You may also take courses in programming languages, such as Python, R, or SQL. Some programs require a capstone course in which you'll apply what you learn to real-world problems. \n"
     ]
    }
   ],
   "source": [
    "with open(\"new_day11_test1.txt\",\"r\") as f:\n",
    "    print(f.read())"
   ]
  },
  {
   "cell_type": "code",
   "execution_count": 126,
   "id": "8562f35e",
   "metadata": {},
   "outputs": [],
   "source": [
    "os.rename(\"new_day11_test1.txt\",\"day11_test1\")"
   ]
  },
  {
   "cell_type": "code",
   "execution_count": null,
   "id": "48788212",
   "metadata": {},
   "outputs": [],
   "source": []
  },
  {
   "cell_type": "markdown",
   "id": "f4a4ed90",
   "metadata": {},
   "source": [
    "# Reading and writing files)"
   ]
  },
  {
   "cell_type": "code",
   "execution_count": 4,
   "id": "c27a5cf0",
   "metadata": {},
   "outputs": [],
   "source": [
    "data = { \n",
    "    \"name\":\"Ranbeer\",\n",
    "    \"Emaill_id\":\"ranbeer1233@gmail.com\",\n",
    "    \"phone_no.\":8040635280,\n",
    "    \"subject\":[\"data science\", \"web developer\",\"data analytics\"]\n",
    "}"
   ]
  },
  {
   "cell_type": "code",
   "execution_count": 5,
   "id": "767036fd",
   "metadata": {},
   "outputs": [],
   "source": [
    "import json"
   ]
  },
  {
   "cell_type": "code",
   "execution_count": 7,
   "id": "b2fc919f",
   "metadata": {},
   "outputs": [],
   "source": [
    "with open(\"test11feb.json\",\"w\") as f:\n",
    "    json.dump(data,f)"
   ]
  },
  {
   "cell_type": "code",
   "execution_count": 8,
   "id": "e6e7675c",
   "metadata": {},
   "outputs": [],
   "source": [
    "with open(\"test11feb.json\",\"r\") as f:\n",
    "    data1 = json.load(f)"
   ]
  },
  {
   "cell_type": "code",
   "execution_count": 9,
   "id": "a5c0013f",
   "metadata": {},
   "outputs": [
    {
     "data": {
      "text/plain": [
       "{'name': 'Ranbeer',\n",
       " 'Emaill_id': 'ranbeer1233@gmail.com',\n",
       " 'phone_no.': 8040635280,\n",
       " 'subject': ['data science', 'web developer', 'data analytics']}"
      ]
     },
     "execution_count": 9,
     "metadata": {},
     "output_type": "execute_result"
    }
   ],
   "source": [
    "data1"
   ]
  },
  {
   "cell_type": "code",
   "execution_count": 10,
   "id": "97d15984",
   "metadata": {},
   "outputs": [
    {
     "data": {
      "text/plain": [
       "'web developer'"
      ]
     },
     "execution_count": 10,
     "metadata": {},
     "output_type": "execute_result"
    }
   ],
   "source": [
    "data1['subject'][1]"
   ]
  },
  {
   "cell_type": "code",
   "execution_count": 27,
   "id": "9eb54ad4",
   "metadata": {},
   "outputs": [],
   "source": [
    "data= [\n",
    "    [\"name\",\"email_id\",\"number\"],\n",
    "      [\"ranbeer\",\"ranbeer12@gmail.com\",9042563698],\n",
    "      [\"rahul\",\"rahul24@gmail.com\",6825412536]\n",
    "      ]"
   ]
  },
  {
   "cell_type": "code",
   "execution_count": 28,
   "id": "6ed3eeb1",
   "metadata": {},
   "outputs": [],
   "source": [
    "import csv"
   ]
  },
  {
   "cell_type": "code",
   "execution_count": 29,
   "id": "7cf753ce",
   "metadata": {},
   "outputs": [],
   "source": [
    "with open(\"test2_11feb.csv\",\"w\") as f:\n",
    "    w = csv.writer(f)\n",
    "    for i in data:\n",
    "        w.writerow(i) \n",
    "        "
   ]
  },
  {
   "cell_type": "code",
   "execution_count": 30,
   "id": "2f77f5e0",
   "metadata": {},
   "outputs": [
    {
     "name": "stdout",
     "output_type": "stream",
     "text": [
      "['name', 'email_id', 'number']\n",
      "[]\n",
      "['ranbeer', 'ranbeer12@gmail.com', '9042563698']\n",
      "[]\n",
      "['rahul', 'rahul24@gmail.com', '6825412536']\n",
      "[]\n"
     ]
    }
   ],
   "source": [
    "with open(\"test2_11feb.csv\",\"r\") as f:\n",
    "    read = csv.reader(f)\n",
    "    for i in read:\n",
    "        print(i)"
   ]
  },
  {
   "cell_type": "code",
   "execution_count": 38,
   "id": "04bae396",
   "metadata": {},
   "outputs": [],
   "source": [
    "with open(\"test11feb.bin\",\"wb\") as f:\n",
    "    f.write(b\"xo1\\x02\\x03\")"
   ]
  },
  {
   "cell_type": "code",
   "execution_count": 41,
   "id": "670af76e",
   "metadata": {},
   "outputs": [
    {
     "name": "stdout",
     "output_type": "stream",
     "text": [
      "b'xo1\\x02\\x03'\n"
     ]
    }
   ],
   "source": [
    "with open(\"test11feb.bin\",\"rb\") as f:\n",
    "    print(f.read())"
   ]
  },
  {
   "cell_type": "code",
   "execution_count": null,
   "id": "2c616f0e",
   "metadata": {},
   "outputs": [],
   "source": []
  },
  {
   "cell_type": "markdown",
   "id": "cdd9196b",
   "metadata": {},
   "source": [
    "# Buffered read and write & other file methods"
   ]
  },
  {
   "cell_type": "code",
   "execution_count": 42,
   "id": "1316080a",
   "metadata": {},
   "outputs": [],
   "source": [
    "import io"
   ]
  },
  {
   "cell_type": "code",
   "execution_count": 45,
   "id": "29f3536e",
   "metadata": {},
   "outputs": [],
   "source": [
    "with open(\"test11feb.txt\",\"wb\") as f:\n",
    "    file = io.BufferedWriter(f)\n",
    "    file.write(b\"BufferedWriter(Writer out) Creates a buffered character-output stream that uses a default-sized output buffer. BufferedWriter(Writer out, int sz) Creates a new buffered character-output stream that uses an output buffer of the given size.\\n\")\n",
    "    file.write(b\"this is my second line that i am typing to writer\")\n",
    "    file.flush()"
   ]
  },
  {
   "cell_type": "code",
   "execution_count": 47,
   "id": "833b18ff",
   "metadata": {},
   "outputs": [
    {
     "name": "stdout",
     "output_type": "stream",
     "text": [
      "b'BufferedWriter(Writer out) Creates a buffered character-output stream that uses a default-sized output buffer. BufferedWriter(Writer out, int sz) Creates a new buffered character-output stream that uses an output buffer of the given size.\\nthis is my second line that i am typing to writer'\n"
     ]
    }
   ],
   "source": [
    "with open(\"test11feb.txt\",\"rb\") as f:\n",
    "    file = io.BufferedReader(f)\n",
    "    data = file.read(10000)\n",
    "    print(data)"
   ]
  },
  {
   "cell_type": "code",
   "execution_count": null,
   "id": "317f3fd9",
   "metadata": {},
   "outputs": [],
   "source": []
  }
 ],
 "metadata": {
  "kernelspec": {
   "display_name": "Python 3 (ipykernel)",
   "language": "python",
   "name": "python3"
  },
  "language_info": {
   "codemirror_mode": {
    "name": "ipython",
    "version": 3
   },
   "file_extension": ".py",
   "mimetype": "text/x-python",
   "name": "python",
   "nbconvert_exporter": "python",
   "pygments_lexer": "ipython3",
   "version": "3.9.13"
  },
  "varInspector": {
   "cols": {
    "lenName": 16,
    "lenType": 16,
    "lenVar": 40
   },
   "kernels_config": {
    "python": {
     "delete_cmd_postfix": "",
     "delete_cmd_prefix": "del ",
     "library": "var_list.py",
     "varRefreshCmd": "print(var_dic_list())"
    },
    "r": {
     "delete_cmd_postfix": ") ",
     "delete_cmd_prefix": "rm(",
     "library": "var_list.r",
     "varRefreshCmd": "cat(var_dic_list()) "
    }
   },
   "types_to_exclude": [
    "module",
    "function",
    "builtin_function_or_method",
    "instance",
    "_Feature"
   ],
   "window_display": false
  }
 },
 "nbformat": 4,
 "nbformat_minor": 5
}
