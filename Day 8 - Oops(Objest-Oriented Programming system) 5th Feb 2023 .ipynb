{
 "cells": [
  {
   "cell_type": "markdown",
   "id": "a2c2410c",
   "metadata": {},
   "source": [
    "# Oops Concept"
   ]
  },
  {
   "cell_type": "code",
   "execution_count": 1,
   "id": "cd518f6f",
   "metadata": {},
   "outputs": [],
   "source": [
    "a =1"
   ]
  },
  {
   "cell_type": "code",
   "execution_count": 2,
   "id": "52549dbd",
   "metadata": {},
   "outputs": [
    {
     "name": "stdout",
     "output_type": "stream",
     "text": [
      "<class 'int'>\n"
     ]
    }
   ],
   "source": [
    "print(type(a))"
   ]
  },
  {
   "cell_type": "code",
   "execution_count": 3,
   "id": "37467753",
   "metadata": {},
   "outputs": [
    {
     "name": "stdout",
     "output_type": "stream",
     "text": [
      "<class 'str'>\n"
     ]
    }
   ],
   "source": [
    "print(type(\"pwskills\"))"
   ]
  },
  {
   "cell_type": "code",
   "execution_count": 1,
   "id": "c041e875",
   "metadata": {},
   "outputs": [],
   "source": [
    "class test:\n",
    "    pass"
   ]
  },
  {
   "cell_type": "code",
   "execution_count": 3,
   "id": "79b7b430",
   "metadata": {},
   "outputs": [],
   "source": [
    "a = test() "
   ]
  },
  {
   "cell_type": "code",
   "execution_count": 4,
   "id": "0c97dce7",
   "metadata": {},
   "outputs": [
    {
     "data": {
      "text/plain": [
       "__main__.test"
      ]
     },
     "execution_count": 4,
     "metadata": {},
     "output_type": "execute_result"
    }
   ],
   "source": [
    "type(a)"
   ]
  },
  {
   "cell_type": "code",
   "execution_count": 5,
   "id": "0be01a46",
   "metadata": {},
   "outputs": [
    {
     "name": "stdout",
     "output_type": "stream",
     "text": [
      "<class '__main__.test'>\n"
     ]
    }
   ],
   "source": [
    "print(type(a))"
   ]
  },
  {
   "cell_type": "code",
   "execution_count": 10,
   "id": "21d5870f",
   "metadata": {},
   "outputs": [],
   "source": [
    "class pwskills:\n",
    "     def welcome_msg(self):\n",
    "            print(\"Welcome to pwskills\")"
   ]
  },
  {
   "cell_type": "code",
   "execution_count": 11,
   "id": "ac36c7de",
   "metadata": {},
   "outputs": [],
   "source": [
    "ranbeer = pwskills()"
   ]
  },
  {
   "cell_type": "code",
   "execution_count": 12,
   "id": "34445786",
   "metadata": {},
   "outputs": [
    {
     "name": "stdout",
     "output_type": "stream",
     "text": [
      "Welcome to pwskills\n"
     ]
    }
   ],
   "source": [
    "ranbeer.welcome_msg()"
   ]
  },
  {
   "cell_type": "code",
   "execution_count": 14,
   "id": "ad01e685",
   "metadata": {},
   "outputs": [],
   "source": [
    "sohan = pwskills()"
   ]
  },
  {
   "cell_type": "code",
   "execution_count": 15,
   "id": "07af8efc",
   "metadata": {},
   "outputs": [
    {
     "name": "stdout",
     "output_type": "stream",
     "text": [
      "Welcome to pwskills\n"
     ]
    }
   ],
   "source": [
    "sohan.welcome_msg()"
   ]
  },
  {
   "cell_type": "code",
   "execution_count": 16,
   "id": "14e52982",
   "metadata": {},
   "outputs": [],
   "source": [
    "a= 1\n",
    "b = 2"
   ]
  },
  {
   "cell_type": "code",
   "execution_count": 17,
   "id": "17c30d75",
   "metadata": {},
   "outputs": [
    {
     "data": {
      "text/plain": [
       "1"
      ]
     },
     "execution_count": 17,
     "metadata": {},
     "output_type": "execute_result"
    }
   ],
   "source": [
    "a"
   ]
  },
  {
   "cell_type": "code",
   "execution_count": 18,
   "id": "f5001efa",
   "metadata": {},
   "outputs": [
    {
     "data": {
      "text/plain": [
       "2"
      ]
     },
     "execution_count": 18,
     "metadata": {},
     "output_type": "execute_result"
    }
   ],
   "source": [
    "b"
   ]
  },
  {
   "cell_type": "code",
   "execution_count": 20,
   "id": "e38a2f71",
   "metadata": {},
   "outputs": [],
   "source": [
    "class pwskills():\n",
    "    \n",
    "    def __init__(self, phone_no, email_id, student_id):\n",
    "        self.phone_no = phone_no\n",
    "        self.email_id=email_id\n",
    "        self.student_id= student_id\n",
    "        \n",
    "    def return_student_details(self):\n",
    "        return self.phone_no, self.email_id, self.student_id"
   ]
  },
  {
   "cell_type": "code",
   "execution_count": 22,
   "id": "13b8aa6d",
   "metadata": {},
   "outputs": [],
   "source": [
    "Ranbeer = pwskills(8053009025, \"ransofteng@gmail.com\", 205)"
   ]
  },
  {
   "cell_type": "code",
   "execution_count": 26,
   "id": "c329b78f",
   "metadata": {},
   "outputs": [
    {
     "data": {
      "text/plain": [
       "'ransofteng@gmail.com'"
      ]
     },
     "execution_count": 26,
     "metadata": {},
     "output_type": "execute_result"
    }
   ],
   "source": [
    "Ranbeer.email_id"
   ]
  },
  {
   "cell_type": "code",
   "execution_count": 27,
   "id": "eef42a5b",
   "metadata": {},
   "outputs": [
    {
     "data": {
      "text/plain": [
       "8053009025"
      ]
     },
     "execution_count": 27,
     "metadata": {},
     "output_type": "execute_result"
    }
   ],
   "source": [
    "Ranbeer.phone_no"
   ]
  },
  {
   "cell_type": "code",
   "execution_count": 28,
   "id": "97e7cd23",
   "metadata": {},
   "outputs": [
    {
     "data": {
      "text/plain": [
       "205"
      ]
     },
     "execution_count": 28,
     "metadata": {},
     "output_type": "execute_result"
    }
   ],
   "source": [
    "Ranbeer.student_id"
   ]
  },
  {
   "cell_type": "code",
   "execution_count": 29,
   "id": "3f7713db",
   "metadata": {},
   "outputs": [
    {
     "data": {
      "text/plain": [
       "<bound method pwskills.return_student_details of <__main__.pwskills object at 0x000001106B5CA5E0>>"
      ]
     },
     "execution_count": 29,
     "metadata": {},
     "output_type": "execute_result"
    }
   ],
   "source": [
    "Ranbeer.return_student_details"
   ]
  },
  {
   "cell_type": "code",
   "execution_count": 30,
   "id": "8d00a58d",
   "metadata": {},
   "outputs": [
    {
     "data": {
      "text/plain": [
       "(8053009025, 'ransofteng@gmail.com', 205)"
      ]
     },
     "execution_count": 30,
     "metadata": {},
     "output_type": "execute_result"
    }
   ],
   "source": [
    "Ranbeer.return_student_details()"
   ]
  },
  {
   "cell_type": "code",
   "execution_count": 31,
   "id": "eef77ec1",
   "metadata": {},
   "outputs": [],
   "source": [
    "sohan = pwskills(7549309730, \"sohan123@gmail.com\", 101)"
   ]
  },
  {
   "cell_type": "code",
   "execution_count": 32,
   "id": "e2ee5a28",
   "metadata": {},
   "outputs": [
    {
     "data": {
      "text/plain": [
       "'sohan123@gmail.com'"
      ]
     },
     "execution_count": 32,
     "metadata": {},
     "output_type": "execute_result"
    }
   ],
   "source": [
    "sohan.email_id"
   ]
  },
  {
   "cell_type": "code",
   "execution_count": 33,
   "id": "c8321da6",
   "metadata": {},
   "outputs": [
    {
     "data": {
      "text/plain": [
       "7549309730"
      ]
     },
     "execution_count": 33,
     "metadata": {},
     "output_type": "execute_result"
    }
   ],
   "source": [
    "sohan.phone_no"
   ]
  },
  {
   "cell_type": "code",
   "execution_count": 34,
   "id": "43365724",
   "metadata": {},
   "outputs": [
    {
     "data": {
      "text/plain": [
       "101"
      ]
     },
     "execution_count": 34,
     "metadata": {},
     "output_type": "execute_result"
    }
   ],
   "source": [
    "sohan.student_id"
   ]
  },
  {
   "cell_type": "code",
   "execution_count": 35,
   "id": "02adcdbb",
   "metadata": {},
   "outputs": [
    {
     "data": {
      "text/plain": [
       "(7549309730, 'sohan123@gmail.com', 101)"
      ]
     },
     "execution_count": 35,
     "metadata": {},
     "output_type": "execute_result"
    }
   ],
   "source": [
    "sohan.return_student_details()"
   ]
  },
  {
   "cell_type": "code",
   "execution_count": 36,
   "id": "e7418b89",
   "metadata": {},
   "outputs": [],
   "source": [
    "class pwskills2():\n",
    "    \n",
    "    def __init__(ranbeer, phone_no, email_id, student_id):\n",
    "        ranbeer.phone_no = phone_no\n",
    "        ranbeer.email_id=email_id\n",
    "        ranbeer.student_id= student_id\n",
    "        \n",
    "    def return_student_details(ranbeer):\n",
    "        return ranbeer.phone_no, ranbeer.email_id, ranbeer.student_id"
   ]
  },
  {
   "cell_type": "code",
   "execution_count": 37,
   "id": "11abf33c",
   "metadata": {},
   "outputs": [],
   "source": [
    "raju = pwskills2(9935110045, \"raju1096@gmail.com\",102)"
   ]
  },
  {
   "cell_type": "code",
   "execution_count": 38,
   "id": "b55b52fd",
   "metadata": {},
   "outputs": [
    {
     "data": {
      "text/plain": [
       "'raju1096@gmail.com'"
      ]
     },
     "execution_count": 38,
     "metadata": {},
     "output_type": "execute_result"
    }
   ],
   "source": [
    "raju.email_id"
   ]
  },
  {
   "cell_type": "code",
   "execution_count": 39,
   "id": "9c0eee6a",
   "metadata": {},
   "outputs": [
    {
     "data": {
      "text/plain": [
       "9935110045"
      ]
     },
     "execution_count": 39,
     "metadata": {},
     "output_type": "execute_result"
    }
   ],
   "source": [
    "raju.phone_no"
   ]
  },
  {
   "cell_type": "code",
   "execution_count": 41,
   "id": "68d9abb1",
   "metadata": {},
   "outputs": [
    {
     "data": {
      "text/plain": [
       "(9935110045, 'raju1096@gmail.com', 102)"
      ]
     },
     "execution_count": 41,
     "metadata": {},
     "output_type": "execute_result"
    }
   ],
   "source": [
    "raju.return_student_details()"
   ]
  },
  {
   "cell_type": "code",
   "execution_count": 54,
   "id": "6bbc2291",
   "metadata": {},
   "outputs": [],
   "source": [
    "class pwskills3():\n",
    "    \n",
    "    def __init__(ranbeer, phone_no, email_id, student_id):\n",
    "        ranbeer.phone_no1 = phone_no\n",
    "        ranbeer.email_id=email_id\n",
    "        ranbeer.student_id= student_id\n",
    "        \n",
    "    def return_student_details(ranbeer):\n",
    "        return ranbeer.phone_no1, ranbeer.email_id, ranbeer.student_id"
   ]
  },
  {
   "cell_type": "code",
   "execution_count": 55,
   "id": "d6525ffc",
   "metadata": {},
   "outputs": [],
   "source": [
    "amit = pwskills3(7549309730, \"sohan123@gmail.com\", 101)"
   ]
  },
  {
   "cell_type": "code",
   "execution_count": 56,
   "id": "61a07925",
   "metadata": {},
   "outputs": [
    {
     "data": {
      "text/plain": [
       "7549309730"
      ]
     },
     "execution_count": 56,
     "metadata": {},
     "output_type": "execute_result"
    }
   ],
   "source": [
    "amit.phone_no1"
   ]
  },
  {
   "cell_type": "code",
   "execution_count": 57,
   "id": "f5343d0f",
   "metadata": {},
   "outputs": [
    {
     "data": {
      "text/plain": [
       "(7549309730, 'sohan123@gmail.com', 101)"
      ]
     },
     "execution_count": 57,
     "metadata": {},
     "output_type": "execute_result"
    }
   ],
   "source": [
    "amit.return_student_details()"
   ]
  },
  {
   "cell_type": "code",
   "execution_count": null,
   "id": "ae404e69",
   "metadata": {},
   "outputs": [],
   "source": []
  }
 ],
 "metadata": {
  "kernelspec": {
   "display_name": "Python 3 (ipykernel)",
   "language": "python",
   "name": "python3"
  },
  "language_info": {
   "codemirror_mode": {
    "name": "ipython",
    "version": 3
   },
   "file_extension": ".py",
   "mimetype": "text/x-python",
   "name": "python",
   "nbconvert_exporter": "python",
   "pygments_lexer": "ipython3",
   "version": "3.9.13"
  },
  "varInspector": {
   "cols": {
    "lenName": 16,
    "lenType": 16,
    "lenVar": 40
   },
   "kernels_config": {
    "python": {
     "delete_cmd_postfix": "",
     "delete_cmd_prefix": "del ",
     "library": "var_list.py",
     "varRefreshCmd": "print(var_dic_list())"
    },
    "r": {
     "delete_cmd_postfix": ") ",
     "delete_cmd_prefix": "rm(",
     "library": "var_list.r",
     "varRefreshCmd": "cat(var_dic_list()) "
    }
   },
   "types_to_exclude": [
    "module",
    "function",
    "builtin_function_or_method",
    "instance",
    "_Feature"
   ],
   "window_display": false
  }
 },
 "nbformat": 4,
 "nbformat_minor": 5
}
